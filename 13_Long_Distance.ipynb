{
  "nbformat": 4,
  "nbformat_minor": 0,
  "metadata": {
    "colab": {
      "name": "Udemy TF2.0 - 13.Long Distance.ipynb",
      "provenance": [],
      "collapsed_sections": [],
      "include_colab_link": true
    },
    "kernelspec": {
      "name": "python3",
      "display_name": "Python 3"
    },
    "accelerator": "GPU"
  },
  "cells": [
    {
      "cell_type": "markdown",
      "metadata": {
        "id": "view-in-github",
        "colab_type": "text"
      },
      "source": [
        "<a href=\"https://colab.research.google.com/github/Justabhi96/TF2.0/blob/master/13_Long_Distance.ipynb\" target=\"_parent\"><img src=\"https://colab.research.google.com/assets/colab-badge.svg\" alt=\"Open In Colab\"/></a>"
      ]
    },
    {
      "cell_type": "code",
      "metadata": {
        "id": "GLmULndzaZgD",
        "colab_type": "code",
        "outputId": "09f52c8b-10df-46e4-dc26-dded2b4cc4dc",
        "colab": {
          "base_uri": "https://localhost:8080/",
          "height": 69
        }
      },
      "source": [
        "!pip install -q tensorflow==2.0.0-beta1"
      ],
      "execution_count": 1,
      "outputs": [
        {
          "output_type": "stream",
          "text": [
            "\u001b[K     |████████████████████████████████| 87.9MB 50kB/s \n",
            "\u001b[K     |████████████████████████████████| 501kB 51.8MB/s \n",
            "\u001b[K     |████████████████████████████████| 3.1MB 54.5MB/s \n",
            "\u001b[?25h"
          ],
          "name": "stdout"
        }
      ]
    },
    {
      "cell_type": "code",
      "metadata": {
        "id": "enXH62K5ar5e",
        "colab_type": "code",
        "colab": {}
      },
      "source": [
        "%%capture\n",
        "from tensorflow.keras.layers import Dense, SimpleRNN, LSTM, GRU, Flatten, Input, GlobalMaxPooling2D\n",
        "from tensorflow.keras.models import Model\n",
        "from tensorflow.keras.optimizers import Adam, SGD\n",
        "import numpy as np\n",
        "import pandas as pd\n",
        "import matplotlib.pyplot as plt"
      ],
      "execution_count": 0,
      "outputs": []
    },
    {
      "cell_type": "code",
      "metadata": {
        "id": "ewJb75rFcQTA",
        "colab_type": "code",
        "colab": {}
      },
      "source": [
        "D = 1\n",
        "def get_label(x, i1, i2, i3):\n",
        "  # x = sequence\n",
        "  if x[i1] < 0 and x[i2] < 0 and x[i3] < 0:\n",
        "    return 1\n",
        "  if x[i1] < 0 and x[i2] > 0 and x[i3] > 0:\n",
        "    return 1\n",
        "  if x[i1] > 0 and x[i2] > 0 and x[i3] < 0:\n",
        "    return 1\n",
        "  if x[i1] < 0 and x[i2] > 0 and x[i3] > 0:\n",
        "    return 1\n",
        "  return 0\n",
        "\n",
        "def generate_data(T, is_short = True):\n",
        "  X = []\n",
        "  Y = []\n",
        "  for t in range(5000):\n",
        "    x = np.random.randn(T)\n",
        "    X.append(x)\n",
        "    if is_short:\n",
        "      y = get_label(x, -1, -2, -3) # short distance\n",
        "    else:\n",
        "      y = get_label(x, 0, 1, 2) # long distance\n",
        "    Y.append(y)\n",
        "\n",
        "  X = np.array(X)\n",
        "  y = np.array(Y)\n",
        "  return X, Y"
      ],
      "execution_count": 0,
      "outputs": []
    },
    {
      "cell_type": "markdown",
      "metadata": {
        "id": "IFS8clUgxSii",
        "colab_type": "text"
      },
      "source": [
        "## Linear model"
      ]
    },
    {
      "cell_type": "code",
      "metadata": {
        "id": "5dR7HEZ8N70I",
        "colab_type": "code",
        "outputId": "a3209a2c-2348-4e67-974f-7b06ff334dec",
        "colab": {
          "base_uri": "https://localhost:8080/",
          "height": 1000
        }
      },
      "source": [
        "T = 10\n",
        "X, Y = generate_data(T)\n",
        "\n",
        "i = Input(shape = (T,))\n",
        "x = Dense(1, activation = \"sigmoid\")(i)\n",
        "\n",
        "model = Model(i, x)\n",
        "model.compile(loss= \"binary_crossentropy\", optimizer = Adam(lr = 0.01), metrics = [\"accuracy\"])\n",
        "r = model.fit(X, Y, validation_split=0.2, epochs = 40)"
      ],
      "execution_count": 19,
      "outputs": [
        {
          "output_type": "stream",
          "text": [
            "Train on 4000 samples, validate on 1000 samples\n",
            "Epoch 1/40\n",
            "4000/4000 [==============================] - 0s 71us/sample - loss: 0.6748 - accuracy: 0.5953 - val_loss: 0.5928 - val_accuracy: 0.6250\n",
            "Epoch 2/40\n",
            "4000/4000 [==============================] - 0s 41us/sample - loss: 0.5932 - accuracy: 0.6258 - val_loss: 0.5872 - val_accuracy: 0.6290\n",
            "Epoch 3/40\n",
            "4000/4000 [==============================] - 0s 37us/sample - loss: 0.5919 - accuracy: 0.6263 - val_loss: 0.5871 - val_accuracy: 0.6340\n",
            "Epoch 4/40\n",
            "4000/4000 [==============================] - 0s 38us/sample - loss: 0.5920 - accuracy: 0.6320 - val_loss: 0.5870 - val_accuracy: 0.6310\n",
            "Epoch 5/40\n",
            "4000/4000 [==============================] - 0s 37us/sample - loss: 0.5920 - accuracy: 0.6283 - val_loss: 0.5871 - val_accuracy: 0.6330\n",
            "Epoch 6/40\n",
            "4000/4000 [==============================] - 0s 37us/sample - loss: 0.5919 - accuracy: 0.6263 - val_loss: 0.5860 - val_accuracy: 0.6370\n",
            "Epoch 7/40\n",
            "4000/4000 [==============================] - 0s 39us/sample - loss: 0.5926 - accuracy: 0.6315 - val_loss: 0.5879 - val_accuracy: 0.6250\n",
            "Epoch 8/40\n",
            "4000/4000 [==============================] - 0s 36us/sample - loss: 0.5920 - accuracy: 0.6275 - val_loss: 0.5871 - val_accuracy: 0.6400\n",
            "Epoch 9/40\n",
            "4000/4000 [==============================] - 0s 40us/sample - loss: 0.5914 - accuracy: 0.6315 - val_loss: 0.5856 - val_accuracy: 0.6430\n",
            "Epoch 10/40\n",
            "4000/4000 [==============================] - 0s 36us/sample - loss: 0.5916 - accuracy: 0.6290 - val_loss: 0.5871 - val_accuracy: 0.6340\n",
            "Epoch 11/40\n",
            "4000/4000 [==============================] - 0s 37us/sample - loss: 0.5929 - accuracy: 0.6223 - val_loss: 0.5859 - val_accuracy: 0.6420\n",
            "Epoch 12/40\n",
            "4000/4000 [==============================] - 0s 37us/sample - loss: 0.5915 - accuracy: 0.6308 - val_loss: 0.5872 - val_accuracy: 0.6280\n",
            "Epoch 13/40\n",
            "4000/4000 [==============================] - 0s 38us/sample - loss: 0.5927 - accuracy: 0.6308 - val_loss: 0.5875 - val_accuracy: 0.6280\n",
            "Epoch 14/40\n",
            "4000/4000 [==============================] - 0s 41us/sample - loss: 0.5923 - accuracy: 0.6285 - val_loss: 0.5864 - val_accuracy: 0.6300\n",
            "Epoch 15/40\n",
            "4000/4000 [==============================] - 0s 36us/sample - loss: 0.5920 - accuracy: 0.6252 - val_loss: 0.5853 - val_accuracy: 0.6460\n",
            "Epoch 16/40\n",
            "4000/4000 [==============================] - 0s 36us/sample - loss: 0.5921 - accuracy: 0.6335 - val_loss: 0.5883 - val_accuracy: 0.6250\n",
            "Epoch 17/40\n",
            "4000/4000 [==============================] - 0s 37us/sample - loss: 0.5926 - accuracy: 0.6302 - val_loss: 0.5872 - val_accuracy: 0.6300\n",
            "Epoch 18/40\n",
            "4000/4000 [==============================] - 0s 37us/sample - loss: 0.5920 - accuracy: 0.6260 - val_loss: 0.5862 - val_accuracy: 0.6340\n",
            "Epoch 19/40\n",
            "4000/4000 [==============================] - 0s 37us/sample - loss: 0.5922 - accuracy: 0.6288 - val_loss: 0.5875 - val_accuracy: 0.6330\n",
            "Epoch 20/40\n",
            "4000/4000 [==============================] - 0s 39us/sample - loss: 0.5923 - accuracy: 0.6332 - val_loss: 0.5883 - val_accuracy: 0.6250\n",
            "Epoch 21/40\n",
            "4000/4000 [==============================] - 0s 37us/sample - loss: 0.5922 - accuracy: 0.6260 - val_loss: 0.5868 - val_accuracy: 0.6450\n",
            "Epoch 22/40\n",
            "4000/4000 [==============================] - 0s 36us/sample - loss: 0.5917 - accuracy: 0.6350 - val_loss: 0.5886 - val_accuracy: 0.6260\n",
            "Epoch 23/40\n",
            "4000/4000 [==============================] - 0s 37us/sample - loss: 0.5916 - accuracy: 0.6208 - val_loss: 0.5860 - val_accuracy: 0.6530\n",
            "Epoch 24/40\n",
            "4000/4000 [==============================] - 0s 38us/sample - loss: 0.5916 - accuracy: 0.6365 - val_loss: 0.5872 - val_accuracy: 0.6310\n",
            "Epoch 25/40\n",
            "4000/4000 [==============================] - 0s 36us/sample - loss: 0.5921 - accuracy: 0.6240 - val_loss: 0.5868 - val_accuracy: 0.6370\n",
            "Epoch 26/40\n",
            "4000/4000 [==============================] - 0s 38us/sample - loss: 0.5924 - accuracy: 0.6280 - val_loss: 0.5861 - val_accuracy: 0.6390\n",
            "Epoch 27/40\n",
            "4000/4000 [==============================] - 0s 38us/sample - loss: 0.5924 - accuracy: 0.6302 - val_loss: 0.5862 - val_accuracy: 0.6400\n",
            "Epoch 28/40\n",
            "4000/4000 [==============================] - 0s 38us/sample - loss: 0.5923 - accuracy: 0.6315 - val_loss: 0.5853 - val_accuracy: 0.6410\n",
            "Epoch 29/40\n",
            "4000/4000 [==============================] - 0s 36us/sample - loss: 0.5918 - accuracy: 0.6285 - val_loss: 0.5857 - val_accuracy: 0.6420\n",
            "Epoch 30/40\n",
            "4000/4000 [==============================] - 0s 40us/sample - loss: 0.5919 - accuracy: 0.6342 - val_loss: 0.5880 - val_accuracy: 0.6340\n",
            "Epoch 31/40\n",
            "4000/4000 [==============================] - 0s 36us/sample - loss: 0.5924 - accuracy: 0.6263 - val_loss: 0.5861 - val_accuracy: 0.6410\n",
            "Epoch 32/40\n",
            "4000/4000 [==============================] - 0s 38us/sample - loss: 0.5920 - accuracy: 0.6323 - val_loss: 0.5878 - val_accuracy: 0.6330\n",
            "Epoch 33/40\n",
            "4000/4000 [==============================] - 0s 37us/sample - loss: 0.5923 - accuracy: 0.6265 - val_loss: 0.5859 - val_accuracy: 0.6370\n",
            "Epoch 34/40\n",
            "4000/4000 [==============================] - 0s 39us/sample - loss: 0.5922 - accuracy: 0.6292 - val_loss: 0.5872 - val_accuracy: 0.6310\n",
            "Epoch 35/40\n",
            "4000/4000 [==============================] - 0s 39us/sample - loss: 0.5920 - accuracy: 0.6235 - val_loss: 0.5876 - val_accuracy: 0.6370\n",
            "Epoch 36/40\n",
            "4000/4000 [==============================] - 0s 38us/sample - loss: 0.5919 - accuracy: 0.6305 - val_loss: 0.5860 - val_accuracy: 0.6380\n",
            "Epoch 37/40\n",
            "4000/4000 [==============================] - 0s 39us/sample - loss: 0.5924 - accuracy: 0.6338 - val_loss: 0.5906 - val_accuracy: 0.6250\n",
            "Epoch 38/40\n",
            "4000/4000 [==============================] - 0s 36us/sample - loss: 0.5928 - accuracy: 0.6260 - val_loss: 0.5873 - val_accuracy: 0.6360\n",
            "Epoch 39/40\n",
            "4000/4000 [==============================] - 0s 38us/sample - loss: 0.5920 - accuracy: 0.6313 - val_loss: 0.5872 - val_accuracy: 0.6250\n",
            "Epoch 40/40\n",
            "4000/4000 [==============================] - 0s 37us/sample - loss: 0.5922 - accuracy: 0.6215 - val_loss: 0.5872 - val_accuracy: 0.6350\n"
          ],
          "name": "stdout"
        }
      ]
    },
    {
      "cell_type": "code",
      "metadata": {
        "id": "NIo_g47xyOsC",
        "colab_type": "code",
        "colab": {
          "base_uri": "https://localhost:8080/",
          "height": 282
        },
        "outputId": "5010123a-172b-4c6e-d6f7-1f02a97ecac0"
      },
      "source": [
        "plt.plot(r.history[\"accuracy\"], label = \"acc\")\n",
        "plt.plot(r.history[\"val_accuracy\"], label = \"val_acc\")\n",
        "plt.legend()"
      ],
      "execution_count": 20,
      "outputs": [
        {
          "output_type": "execute_result",
          "data": {
            "text/plain": [
              "<matplotlib.legend.Legend at 0x7f5bcae9db70>"
            ]
          },
          "metadata": {
            "tags": []
          },
          "execution_count": 20
        },
        {
          "output_type": "display_data",
          "data": {
            "image/png": "[encoded data removed]",
            "text/plain": [
              "<Figure size 432x288 with 1 Axes>"
            ]
          },
          "metadata": {
            "tags": []
          }
        }
      ]
    },
    {
      "cell_type": "markdown",
      "metadata": {
        "id": "eb25IDm_036u",
        "colab_type": "text"
      },
      "source": [
        "## SimpleRNN Short distance"
      ]
    },
    {
      "cell_type": "code",
      "metadata": {
        "id": "ljVBTv3rxTHZ",
        "colab_type": "code",
        "outputId": "de4320d4-7899-4023-bdd0-fab3b7363911",
        "colab": {
          "base_uri": "https://localhost:8080/",
          "height": 1000
        }
      },
      "source": [
        "T = 10\n",
        "X, Y = generate_data(T)\n",
        "inputs = np.expand_dims(X, -1) # (N * T * D)\n",
        "\n",
        "i = Input(shape = (T, D))\n",
        "x = SimpleRNN(5)(i)\n",
        "x = Dense(1, activation = \"sigmoid\")(x)\n",
        "\n",
        "model = Model(i, x)\n",
        "model.compile(loss = \"binary_crossentropy\", optimizer = Adam(lr = 0.01), metrics = [\"accuracy\"])\n",
        "\n",
        "r = model.fit(inputs, Y, validation_split = 0.5, epochs = 30)"
      ],
      "execution_count": 21,
      "outputs": [
        {
          "output_type": "stream",
          "text": [
            "Train on 2500 samples, validate on 2500 samples\n",
            "Epoch 1/30\n",
            "2500/2500 [==============================] - 1s 323us/sample - loss: 0.5897 - accuracy: 0.6496 - val_loss: 0.5311 - val_accuracy: 0.7140\n",
            "Epoch 2/30\n",
            "2500/2500 [==============================] - 0s 120us/sample - loss: 0.4986 - accuracy: 0.7392 - val_loss: 0.4599 - val_accuracy: 0.7520\n",
            "Epoch 3/30\n",
            "2500/2500 [==============================] - 0s 120us/sample - loss: 0.4318 - accuracy: 0.7980 - val_loss: 0.4023 - val_accuracy: 0.8372\n",
            "Epoch 4/30\n",
            "2500/2500 [==============================] - 0s 117us/sample - loss: 0.3792 - accuracy: 0.8460 - val_loss: 0.3576 - val_accuracy: 0.8724\n",
            "Epoch 5/30\n",
            "2500/2500 [==============================] - 0s 124us/sample - loss: 0.3346 - accuracy: 0.8768 - val_loss: 0.3117 - val_accuracy: 0.8988\n",
            "Epoch 6/30\n",
            "2500/2500 [==============================] - 0s 120us/sample - loss: 0.2972 - accuracy: 0.9012 - val_loss: 0.2808 - val_accuracy: 0.9080\n",
            "Epoch 7/30\n",
            "2500/2500 [==============================] - 0s 118us/sample - loss: 0.2676 - accuracy: 0.9064 - val_loss: 0.2549 - val_accuracy: 0.9108\n",
            "Epoch 8/30\n",
            "2500/2500 [==============================] - 0s 122us/sample - loss: 0.2336 - accuracy: 0.9296 - val_loss: 0.2234 - val_accuracy: 0.9280\n",
            "Epoch 9/30\n",
            "2500/2500 [==============================] - 0s 120us/sample - loss: 0.2139 - accuracy: 0.9408 - val_loss: 0.2069 - val_accuracy: 0.9404\n",
            "Epoch 10/30\n",
            "2500/2500 [==============================] - 0s 123us/sample - loss: 0.1959 - accuracy: 0.9380 - val_loss: 0.1899 - val_accuracy: 0.9396\n",
            "Epoch 11/30\n",
            "2500/2500 [==============================] - 0s 121us/sample - loss: 0.1828 - accuracy: 0.9476 - val_loss: 0.1786 - val_accuracy: 0.9452\n",
            "Epoch 12/30\n",
            "2500/2500 [==============================] - 0s 123us/sample - loss: 0.1727 - accuracy: 0.9472 - val_loss: 0.1705 - val_accuracy: 0.9488\n",
            "Epoch 13/30\n",
            "2500/2500 [==============================] - 0s 131us/sample - loss: 0.1636 - accuracy: 0.9492 - val_loss: 0.1625 - val_accuracy: 0.9488\n",
            "Epoch 14/30\n",
            "2500/2500 [==============================] - 0s 124us/sample - loss: 0.1527 - accuracy: 0.9540 - val_loss: 0.1571 - val_accuracy: 0.9532\n",
            "Epoch 15/30\n",
            "2500/2500 [==============================] - 0s 122us/sample - loss: 0.1486 - accuracy: 0.9500 - val_loss: 0.1448 - val_accuracy: 0.9464\n",
            "Epoch 16/30\n",
            "2500/2500 [==============================] - 0s 121us/sample - loss: 0.1409 - accuracy: 0.9560 - val_loss: 0.1453 - val_accuracy: 0.9536\n",
            "Epoch 17/30\n",
            "2500/2500 [==============================] - 0s 121us/sample - loss: 0.1380 - accuracy: 0.9580 - val_loss: 0.1346 - val_accuracy: 0.9560\n",
            "Epoch 18/30\n",
            "2500/2500 [==============================] - 0s 119us/sample - loss: 0.1326 - accuracy: 0.9560 - val_loss: 0.1302 - val_accuracy: 0.9536\n",
            "Epoch 19/30\n",
            "2500/2500 [==============================] - 0s 122us/sample - loss: 0.1280 - accuracy: 0.9584 - val_loss: 0.1240 - val_accuracy: 0.9652\n",
            "Epoch 20/30\n",
            "2500/2500 [==============================] - 0s 118us/sample - loss: 0.1210 - accuracy: 0.9608 - val_loss: 0.1183 - val_accuracy: 0.9604\n",
            "Epoch 21/30\n",
            "2500/2500 [==============================] - 0s 117us/sample - loss: 0.1192 - accuracy: 0.9628 - val_loss: 0.1269 - val_accuracy: 0.9552\n",
            "Epoch 22/30\n",
            "2500/2500 [==============================] - 0s 128us/sample - loss: 0.1159 - accuracy: 0.9680 - val_loss: 0.1069 - val_accuracy: 0.9668\n",
            "Epoch 23/30\n",
            "2500/2500 [==============================] - 0s 120us/sample - loss: 0.1109 - accuracy: 0.9648 - val_loss: 0.1110 - val_accuracy: 0.9628\n",
            "Epoch 24/30\n",
            "2500/2500 [==============================] - 0s 120us/sample - loss: 0.1094 - accuracy: 0.9656 - val_loss: 0.1060 - val_accuracy: 0.9660\n",
            "Epoch 25/30\n",
            "2500/2500 [==============================] - 0s 124us/sample - loss: 0.1049 - accuracy: 0.9708 - val_loss: 0.1000 - val_accuracy: 0.9716\n",
            "Epoch 26/30\n",
            "2500/2500 [==============================] - 0s 122us/sample - loss: 0.1057 - accuracy: 0.9720 - val_loss: 0.0972 - val_accuracy: 0.9656\n",
            "Epoch 27/30\n",
            "2500/2500 [==============================] - 0s 120us/sample - loss: 0.0978 - accuracy: 0.9708 - val_loss: 0.0931 - val_accuracy: 0.9692\n",
            "Epoch 28/30\n",
            "2500/2500 [==============================] - 0s 120us/sample - loss: 0.0986 - accuracy: 0.9724 - val_loss: 0.0938 - val_accuracy: 0.9712\n",
            "Epoch 29/30\n",
            "2500/2500 [==============================] - 0s 118us/sample - loss: 0.0930 - accuracy: 0.9724 - val_loss: 0.0891 - val_accuracy: 0.9740\n",
            "Epoch 30/30\n",
            "2500/2500 [==============================] - 0s 122us/sample - loss: 0.0929 - accuracy: 0.9744 - val_loss: 0.0880 - val_accuracy: 0.9736\n"
          ],
          "name": "stdout"
        }
      ]
    },
    {
      "cell_type": "code",
      "metadata": {
        "id": "mNYHtcAE0yG1",
        "colab_type": "code",
        "colab": {
          "base_uri": "https://localhost:8080/",
          "height": 282
        },
        "outputId": "8a28e170-a0b8-47b7-c78f-e2a954acc339"
      },
      "source": [
        "# easily learning the pattern\n",
        "plt.plot(r.history[\"accuracy\"], label = \"acc\")\n",
        "plt.plot(r.history[\"val_accuracy\"], label = \"val_acc\")\n",
        "plt.legend()"
      ],
      "execution_count": 22,
      "outputs": [
        {
          "output_type": "execute_result",
          "data": {
            "text/plain": [
              "<matplotlib.legend.Legend at 0x7f5bcb98e828>"
            ]
          },
          "metadata": {
            "tags": []
          },
          "execution_count": 22
        },
        {
          "output_type": "display_data",
          "data": {
            "image/png": "[encoded data removed]",
            "text/plain": [
              "<Figure size 432x288 with 1 Axes>"
            ]
          },
          "metadata": {
            "tags": []
          }
        }
      ]
    },
    {
      "cell_type": "markdown",
      "metadata": {
        "id": "sipauUp924oS",
        "colab_type": "text"
      },
      "source": [
        "##SimpleRNN Long distance"
      ]
    },
    {
      "cell_type": "code",
      "metadata": {
        "id": "jMCVfsRj231C",
        "colab_type": "code",
        "colab": {
          "base_uri": "https://localhost:8080/",
          "height": 1000
        },
        "outputId": "f3588307-36ab-4e57-9914-12f81a26503e"
      },
      "source": [
        "T = 10\n",
        "X, Y = generate_data(T, False)\n",
        "inputs = np.expand_dims(X, -1) # (N * T * D)\n",
        "\n",
        "i = Input(shape = (T, D))\n",
        "x = SimpleRNN(5)(i)\n",
        "x = Dense(1, activation = \"sigmoid\")(x)\n",
        "\n",
        "model = Model(i, x)\n",
        "model.compile(loss = \"binary_crossentropy\", optimizer = Adam(lr = 0.01), metrics = [\"accuracy\"])\n",
        "\n",
        "r = model.fit(inputs, Y, validation_split = 0.5, epochs = 50)"
      ],
      "execution_count": 24,
      "outputs": [
        {
          "output_type": "stream",
          "text": [
            "Train on 2500 samples, validate on 2500 samples\n",
            "Epoch 1/50\n",
            "2500/2500 [==============================] - 1s 352us/sample - loss: 0.6357 - accuracy: 0.6220 - val_loss: 0.5604 - val_accuracy: 0.6832\n",
            "Epoch 2/50\n",
            "2500/2500 [==============================] - 0s 128us/sample - loss: 0.5472 - accuracy: 0.7036 - val_loss: 0.5180 - val_accuracy: 0.7264\n",
            "Epoch 3/50\n",
            "2500/2500 [==============================] - 0s 130us/sample - loss: 0.5104 - accuracy: 0.7276 - val_loss: 0.4988 - val_accuracy: 0.7168\n",
            "Epoch 4/50\n",
            "2500/2500 [==============================] - 0s 122us/sample - loss: 0.5027 - accuracy: 0.7224 - val_loss: 0.5619 - val_accuracy: 0.6524\n",
            "Epoch 5/50\n",
            "2500/2500 [==============================] - 0s 123us/sample - loss: 0.4788 - accuracy: 0.7500 - val_loss: 0.4448 - val_accuracy: 0.7768\n",
            "Epoch 6/50\n",
            "2500/2500 [==============================] - 0s 135us/sample - loss: 0.4690 - accuracy: 0.7572 - val_loss: 0.4791 - val_accuracy: 0.7512\n",
            "Epoch 7/50\n",
            "2500/2500 [==============================] - 0s 134us/sample - loss: 0.4518 - accuracy: 0.7652 - val_loss: 0.4307 - val_accuracy: 0.7780\n",
            "Epoch 8/50\n",
            "2500/2500 [==============================] - 0s 139us/sample - loss: 0.4301 - accuracy: 0.7824 - val_loss: 0.4076 - val_accuracy: 0.7972\n",
            "Epoch 9/50\n",
            "2500/2500 [==============================] - 0s 128us/sample - loss: 0.4289 - accuracy: 0.7820 - val_loss: 0.4480 - val_accuracy: 0.7484\n",
            "Epoch 10/50\n",
            "2500/2500 [==============================] - 0s 127us/sample - loss: 0.4143 - accuracy: 0.7900 - val_loss: 0.4133 - val_accuracy: 0.7780\n",
            "Epoch 11/50\n",
            "2500/2500 [==============================] - 0s 118us/sample - loss: 0.4080 - accuracy: 0.8000 - val_loss: 0.3868 - val_accuracy: 0.7956\n",
            "Epoch 12/50\n",
            "2500/2500 [==============================] - 0s 122us/sample - loss: 0.3866 - accuracy: 0.8056 - val_loss: 0.3448 - val_accuracy: 0.8268\n",
            "Epoch 13/50\n",
            "2500/2500 [==============================] - 0s 119us/sample - loss: 0.3798 - accuracy: 0.8056 - val_loss: 0.3556 - val_accuracy: 0.7980\n",
            "Epoch 14/50\n",
            "2500/2500 [==============================] - 0s 121us/sample - loss: 0.3754 - accuracy: 0.8176 - val_loss: 0.3646 - val_accuracy: 0.8128\n",
            "Epoch 15/50\n",
            "2500/2500 [==============================] - 0s 119us/sample - loss: 0.3681 - accuracy: 0.8192 - val_loss: 0.3337 - val_accuracy: 0.8312\n",
            "Epoch 16/50\n",
            "2500/2500 [==============================] - 0s 121us/sample - loss: 0.5753 - accuracy: 0.6524 - val_loss: 0.5468 - val_accuracy: 0.6540\n",
            "Epoch 17/50\n",
            "2500/2500 [==============================] - 0s 122us/sample - loss: 0.5229 - accuracy: 0.6876 - val_loss: 0.4807 - val_accuracy: 0.7216\n",
            "Epoch 18/50\n",
            "2500/2500 [==============================] - 0s 121us/sample - loss: 0.4830 - accuracy: 0.7128 - val_loss: 0.4083 - val_accuracy: 0.7768\n",
            "Epoch 19/50\n",
            "2500/2500 [==============================] - 0s 123us/sample - loss: 0.3830 - accuracy: 0.8096 - val_loss: 0.3305 - val_accuracy: 0.8324\n",
            "Epoch 20/50\n",
            "2500/2500 [==============================] - 0s 119us/sample - loss: 0.3613 - accuracy: 0.8216 - val_loss: 0.3197 - val_accuracy: 0.8400\n",
            "Epoch 21/50\n",
            "2500/2500 [==============================] - 0s 120us/sample - loss: 0.3528 - accuracy: 0.8292 - val_loss: 0.3236 - val_accuracy: 0.8336\n",
            "Epoch 22/50\n",
            "2500/2500 [==============================] - 0s 123us/sample - loss: 0.3782 - accuracy: 0.8176 - val_loss: 0.3165 - val_accuracy: 0.8432\n",
            "Epoch 23/50\n",
            "2500/2500 [==============================] - 0s 120us/sample - loss: 0.3252 - accuracy: 0.8404 - val_loss: 0.2884 - val_accuracy: 0.8536\n",
            "Epoch 24/50\n",
            "2500/2500 [==============================] - 0s 116us/sample - loss: 0.3865 - accuracy: 0.8016 - val_loss: 0.3356 - val_accuracy: 0.8352\n",
            "Epoch 25/50\n",
            "2500/2500 [==============================] - 0s 118us/sample - loss: 0.3512 - accuracy: 0.8256 - val_loss: 0.3171 - val_accuracy: 0.8460\n",
            "Epoch 26/50\n",
            "2500/2500 [==============================] - 0s 121us/sample - loss: 0.3584 - accuracy: 0.8128 - val_loss: 0.3162 - val_accuracy: 0.8476\n",
            "Epoch 27/50\n",
            "2500/2500 [==============================] - 0s 120us/sample - loss: 0.3184 - accuracy: 0.8468 - val_loss: 0.2982 - val_accuracy: 0.8528\n",
            "Epoch 28/50\n",
            "2500/2500 [==============================] - 0s 119us/sample - loss: 0.3134 - accuracy: 0.8440 - val_loss: 0.2987 - val_accuracy: 0.8480\n",
            "Epoch 29/50\n",
            "2500/2500 [==============================] - 0s 127us/sample - loss: 0.2752 - accuracy: 0.8504 - val_loss: 0.2604 - val_accuracy: 0.8524\n",
            "Epoch 30/50\n",
            "2500/2500 [==============================] - 0s 122us/sample - loss: 0.2682 - accuracy: 0.8584 - val_loss: 0.2292 - val_accuracy: 0.9060\n",
            "Epoch 31/50\n",
            "2500/2500 [==============================] - 0s 120us/sample - loss: 0.3678 - accuracy: 0.8284 - val_loss: 0.4357 - val_accuracy: 0.8016\n",
            "Epoch 32/50\n",
            "2500/2500 [==============================] - 0s 124us/sample - loss: 0.6632 - accuracy: 0.6520 - val_loss: 0.6600 - val_accuracy: 0.6464\n",
            "Epoch 33/50\n",
            "2500/2500 [==============================] - 0s 122us/sample - loss: 0.6774 - accuracy: 0.6280 - val_loss: 0.6816 - val_accuracy: 0.6364\n",
            "Epoch 34/50\n",
            "2500/2500 [==============================] - 0s 118us/sample - loss: 0.6462 - accuracy: 0.6572 - val_loss: 0.6321 - val_accuracy: 0.6440\n",
            "Epoch 35/50\n",
            "2500/2500 [==============================] - 0s 120us/sample - loss: 0.6313 - accuracy: 0.6568 - val_loss: 0.6151 - val_accuracy: 0.6428\n",
            "Epoch 36/50\n",
            "2500/2500 [==============================] - 0s 128us/sample - loss: 0.6259 - accuracy: 0.5996 - val_loss: 0.5934 - val_accuracy: 0.6588\n",
            "Epoch 37/50\n",
            "2500/2500 [==============================] - 0s 120us/sample - loss: 0.5935 - accuracy: 0.6304 - val_loss: 0.5724 - val_accuracy: 0.6636\n",
            "Epoch 38/50\n",
            "2500/2500 [==============================] - 0s 118us/sample - loss: 0.5775 - accuracy: 0.6524 - val_loss: 0.5641 - val_accuracy: 0.6876\n",
            "Epoch 39/50\n",
            "2500/2500 [==============================] - 0s 123us/sample - loss: 0.5616 - accuracy: 0.6628 - val_loss: 0.5594 - val_accuracy: 0.6844\n",
            "Epoch 40/50\n",
            "2500/2500 [==============================] - 0s 122us/sample - loss: 0.5499 - accuracy: 0.6888 - val_loss: 0.5287 - val_accuracy: 0.7172\n",
            "Epoch 41/50\n",
            "2500/2500 [==============================] - 0s 124us/sample - loss: 0.5476 - accuracy: 0.7016 - val_loss: 0.5248 - val_accuracy: 0.7284\n",
            "Epoch 42/50\n",
            "2500/2500 [==============================] - 0s 128us/sample - loss: 0.5403 - accuracy: 0.6996 - val_loss: 0.5247 - val_accuracy: 0.7116\n",
            "Epoch 43/50\n",
            "2500/2500 [==============================] - 0s 125us/sample - loss: 0.5251 - accuracy: 0.7116 - val_loss: 0.5669 - val_accuracy: 0.6340\n",
            "Epoch 44/50\n",
            "2500/2500 [==============================] - 0s 121us/sample - loss: 0.5154 - accuracy: 0.6900 - val_loss: 0.4813 - val_accuracy: 0.7300\n",
            "Epoch 45/50\n",
            "2500/2500 [==============================] - 0s 126us/sample - loss: 0.4570 - accuracy: 0.7624 - val_loss: 0.4310 - val_accuracy: 0.7656\n",
            "Epoch 46/50\n",
            "2500/2500 [==============================] - 0s 123us/sample - loss: 0.4470 - accuracy: 0.7560 - val_loss: 0.4400 - val_accuracy: 0.7860\n",
            "Epoch 47/50\n",
            "2500/2500 [==============================] - 0s 116us/sample - loss: 0.4842 - accuracy: 0.7448 - val_loss: 0.4669 - val_accuracy: 0.7484\n",
            "Epoch 48/50\n",
            "2500/2500 [==============================] - 0s 117us/sample - loss: 0.5186 - accuracy: 0.7048 - val_loss: 0.5865 - val_accuracy: 0.7312\n",
            "Epoch 49/50\n",
            "2500/2500 [==============================] - 0s 123us/sample - loss: 0.6001 - accuracy: 0.6932 - val_loss: 0.5609 - val_accuracy: 0.7224\n",
            "Epoch 50/50\n",
            "2500/2500 [==============================] - 0s 120us/sample - loss: 0.5495 - accuracy: 0.6972 - val_loss: 0.5455 - val_accuracy: 0.6824\n"
          ],
          "name": "stdout"
        }
      ]
    },
    {
      "cell_type": "code",
      "metadata": {
        "id": "NBANmEQA3JxV",
        "colab_type": "code",
        "colab": {
          "base_uri": "https://localhost:8080/",
          "height": 282
        },
        "outputId": "1c5fd864-d22c-4894-e6cf-47db80880fdb"
      },
      "source": [
        "# having hard time learning the pattern\n",
        "plt.plot(r.history[\"accuracy\"], label = \"acc\")\n",
        "plt.plot(r.history[\"val_accuracy\"], label = \"val_acc\")\n",
        "plt.legend()"
      ],
      "execution_count": 25,
      "outputs": [
        {
          "output_type": "execute_result",
          "data": {
            "text/plain": [
              "<matplotlib.legend.Legend at 0x7f5bc83c58d0>"
            ]
          },
          "metadata": {
            "tags": []
          },
          "execution_count": 25
        },
        {
          "output_type": "display_data",
          "data": {
            "image/png": "[encoded data removed]",
            "text/plain": [
              "<Figure size 432x288 with 1 Axes>"
            ]
          },
          "metadata": {
            "tags": []
          }
        }
      ]
    },
    {
      "cell_type": "markdown",
      "metadata": {
        "id": "u9L-HwT34dvK",
        "colab_type": "text"
      },
      "source": [
        "##LSTM Long distance with 20 sequence"
      ]
    },
    {
      "cell_type": "code",
      "metadata": {
        "id": "3suypvxg32fS",
        "colab_type": "code",
        "colab": {
          "base_uri": "https://localhost:8080/",
          "height": 1000
        },
        "outputId": "32327f04-d850-4a37-8501-51d6c374ebf5"
      },
      "source": [
        "T = 20\n",
        "X, Y = generate_data(T, False)\n",
        "inputs = np.expand_dims(X, -1) # (N * T * D)\n",
        "\n",
        "i = Input(shape = (T, D))\n",
        "x = LSTM(5)(i)\n",
        "x = Dense(1, activation = \"sigmoid\")(x)\n",
        "\n",
        "model = Model(i, x)\n",
        "model.compile(loss = \"binary_crossentropy\", optimizer = Adam(lr = 0.01), metrics = [\"accuracy\"])\n",
        "\n",
        "r = model.fit(inputs, Y, validation_split = 0.5, epochs = 150)"
      ],
      "execution_count": 29,
      "outputs": [
        {
          "output_type": "stream",
          "text": [
            "Train on 2500 samples, validate on 2500 samples\n",
            "Epoch 1/150\n",
            "2500/2500 [==============================] - 2s 750us/sample - loss: 0.6714 - accuracy: 0.6096 - val_loss: 0.6573 - val_accuracy: 0.6368\n",
            "Epoch 2/150\n",
            "2500/2500 [==============================] - 1s 306us/sample - loss: 0.6659 - accuracy: 0.6184 - val_loss: 0.6567 - val_accuracy: 0.6368\n",
            "Epoch 3/150\n",
            "2500/2500 [==============================] - 1s 306us/sample - loss: 0.6651 - accuracy: 0.6184 - val_loss: 0.6612 - val_accuracy: 0.6368\n",
            "Epoch 4/150\n",
            "2500/2500 [==============================] - 1s 302us/sample - loss: 0.6654 - accuracy: 0.6184 - val_loss: 0.6589 - val_accuracy: 0.6368\n",
            "Epoch 5/150\n",
            "2500/2500 [==============================] - 1s 305us/sample - loss: 0.6650 - accuracy: 0.6184 - val_loss: 0.6553 - val_accuracy: 0.6368\n",
            "Epoch 6/150\n",
            "2500/2500 [==============================] - 1s 308us/sample - loss: 0.6654 - accuracy: 0.6184 - val_loss: 0.6552 - val_accuracy: 0.6368\n",
            "Epoch 7/150\n",
            "2500/2500 [==============================] - 1s 303us/sample - loss: 0.6651 - accuracy: 0.6184 - val_loss: 0.6557 - val_accuracy: 0.6368\n",
            "Epoch 8/150\n",
            "2500/2500 [==============================] - 1s 302us/sample - loss: 0.6647 - accuracy: 0.6184 - val_loss: 0.6554 - val_accuracy: 0.6368\n",
            "Epoch 9/150\n",
            "2500/2500 [==============================] - 1s 317us/sample - loss: 0.6649 - accuracy: 0.6184 - val_loss: 0.6566 - val_accuracy: 0.6368\n",
            "Epoch 10/150\n",
            "2500/2500 [==============================] - 1s 324us/sample - loss: 0.6649 - accuracy: 0.6184 - val_loss: 0.6561 - val_accuracy: 0.6368\n",
            "Epoch 11/150\n",
            "2500/2500 [==============================] - 1s 315us/sample - loss: 0.6650 - accuracy: 0.6184 - val_loss: 0.6564 - val_accuracy: 0.6368\n",
            "Epoch 12/150\n",
            "2500/2500 [==============================] - 1s 306us/sample - loss: 0.6644 - accuracy: 0.6184 - val_loss: 0.6558 - val_accuracy: 0.6368\n",
            "Epoch 13/150\n",
            "2500/2500 [==============================] - 1s 313us/sample - loss: 0.6647 - accuracy: 0.6184 - val_loss: 0.6568 - val_accuracy: 0.6368\n",
            "Epoch 14/150\n",
            "2500/2500 [==============================] - 1s 318us/sample - loss: 0.6648 - accuracy: 0.6184 - val_loss: 0.6558 - val_accuracy: 0.6368\n",
            "Epoch 15/150\n",
            "2500/2500 [==============================] - 1s 328us/sample - loss: 0.6645 - accuracy: 0.6184 - val_loss: 0.6565 - val_accuracy: 0.6368\n",
            "Epoch 16/150\n",
            "2500/2500 [==============================] - 1s 311us/sample - loss: 0.6641 - accuracy: 0.6184 - val_loss: 0.6593 - val_accuracy: 0.6368\n",
            "Epoch 17/150\n",
            "2500/2500 [==============================] - 1s 319us/sample - loss: 0.6643 - accuracy: 0.6184 - val_loss: 0.6569 - val_accuracy: 0.6368\n",
            "Epoch 18/150\n",
            "2500/2500 [==============================] - 1s 314us/sample - loss: 0.6648 - accuracy: 0.6184 - val_loss: 0.6575 - val_accuracy: 0.6368\n",
            "Epoch 19/150\n",
            "2500/2500 [==============================] - 1s 311us/sample - loss: 0.6653 - accuracy: 0.6184 - val_loss: 0.6572 - val_accuracy: 0.6368\n",
            "Epoch 20/150\n",
            "2500/2500 [==============================] - 1s 317us/sample - loss: 0.6640 - accuracy: 0.6184 - val_loss: 0.6566 - val_accuracy: 0.6368\n",
            "Epoch 21/150\n",
            "2500/2500 [==============================] - 1s 309us/sample - loss: 0.6639 - accuracy: 0.6184 - val_loss: 0.6572 - val_accuracy: 0.6368\n",
            "Epoch 22/150\n",
            "2500/2500 [==============================] - 1s 313us/sample - loss: 0.6639 - accuracy: 0.6184 - val_loss: 0.6582 - val_accuracy: 0.6368\n",
            "Epoch 23/150\n",
            "2500/2500 [==============================] - 1s 301us/sample - loss: 0.6633 - accuracy: 0.6184 - val_loss: 0.6581 - val_accuracy: 0.6368\n",
            "Epoch 24/150\n",
            "2500/2500 [==============================] - 1s 298us/sample - loss: 0.6643 - accuracy: 0.6184 - val_loss: 0.6585 - val_accuracy: 0.6368\n",
            "Epoch 25/150\n",
            "2500/2500 [==============================] - 1s 300us/sample - loss: 0.6633 - accuracy: 0.6180 - val_loss: 0.6587 - val_accuracy: 0.6368\n",
            "Epoch 26/150\n",
            "2500/2500 [==============================] - 1s 295us/sample - loss: 0.6635 - accuracy: 0.6184 - val_loss: 0.6599 - val_accuracy: 0.6368\n",
            "Epoch 27/150\n",
            "2500/2500 [==============================] - 1s 302us/sample - loss: 0.6633 - accuracy: 0.6176 - val_loss: 0.6604 - val_accuracy: 0.6368\n",
            "Epoch 28/150\n",
            "2500/2500 [==============================] - 1s 306us/sample - loss: 0.6628 - accuracy: 0.6184 - val_loss: 0.6596 - val_accuracy: 0.6368\n",
            "Epoch 29/150\n",
            "2500/2500 [==============================] - 1s 304us/sample - loss: 0.6629 - accuracy: 0.6168 - val_loss: 0.6614 - val_accuracy: 0.6372\n",
            "Epoch 30/150\n",
            "2500/2500 [==============================] - 1s 303us/sample - loss: 0.6628 - accuracy: 0.6188 - val_loss: 0.6605 - val_accuracy: 0.6372\n",
            "Epoch 31/150\n",
            "2500/2500 [==============================] - 1s 304us/sample - loss: 0.6623 - accuracy: 0.6180 - val_loss: 0.6599 - val_accuracy: 0.6368\n",
            "Epoch 32/150\n",
            "2500/2500 [==============================] - 1s 302us/sample - loss: 0.6617 - accuracy: 0.6180 - val_loss: 0.6609 - val_accuracy: 0.6364\n",
            "Epoch 33/150\n",
            "2500/2500 [==============================] - 1s 299us/sample - loss: 0.6615 - accuracy: 0.6184 - val_loss: 0.6594 - val_accuracy: 0.6364\n",
            "Epoch 34/150\n",
            "2500/2500 [==============================] - 1s 297us/sample - loss: 0.6612 - accuracy: 0.6184 - val_loss: 0.6614 - val_accuracy: 0.6372\n",
            "Epoch 35/150\n",
            "2500/2500 [==============================] - 1s 303us/sample - loss: 0.6615 - accuracy: 0.6172 - val_loss: 0.6624 - val_accuracy: 0.6360\n",
            "Epoch 36/150\n",
            "2500/2500 [==============================] - 1s 302us/sample - loss: 0.6609 - accuracy: 0.6168 - val_loss: 0.6630 - val_accuracy: 0.6364\n",
            "Epoch 37/150\n",
            "2500/2500 [==============================] - 1s 307us/sample - loss: 0.6597 - accuracy: 0.6200 - val_loss: 0.6605 - val_accuracy: 0.6376\n",
            "Epoch 38/150\n",
            "2500/2500 [==============================] - 1s 302us/sample - loss: 0.6580 - accuracy: 0.6212 - val_loss: 0.6648 - val_accuracy: 0.6296\n",
            "Epoch 39/150\n",
            "2500/2500 [==============================] - 1s 356us/sample - loss: 0.6574 - accuracy: 0.6228 - val_loss: 0.6608 - val_accuracy: 0.6308\n",
            "Epoch 40/150\n",
            "2500/2500 [==============================] - 1s 310us/sample - loss: 0.6560 - accuracy: 0.6168 - val_loss: 0.6507 - val_accuracy: 0.6320\n",
            "Epoch 41/150\n",
            "2500/2500 [==============================] - 1s 297us/sample - loss: 0.6467 - accuracy: 0.6440 - val_loss: 0.6327 - val_accuracy: 0.6752\n",
            "Epoch 42/150\n",
            "2500/2500 [==============================] - 1s 299us/sample - loss: 0.6512 - accuracy: 0.6436 - val_loss: 0.6578 - val_accuracy: 0.6360\n",
            "Epoch 43/150\n",
            "2500/2500 [==============================] - 1s 299us/sample - loss: 0.6643 - accuracy: 0.6164 - val_loss: 0.6597 - val_accuracy: 0.6340\n",
            "Epoch 44/150\n",
            "2500/2500 [==============================] - 1s 302us/sample - loss: 0.6626 - accuracy: 0.6176 - val_loss: 0.6599 - val_accuracy: 0.6356\n",
            "Epoch 45/150\n",
            "2500/2500 [==============================] - 1s 303us/sample - loss: 0.6623 - accuracy: 0.6160 - val_loss: 0.6638 - val_accuracy: 0.6296\n",
            "Epoch 46/150\n",
            "2500/2500 [==============================] - 1s 301us/sample - loss: 0.6623 - accuracy: 0.6192 - val_loss: 0.6611 - val_accuracy: 0.6348\n",
            "Epoch 47/150\n",
            "2500/2500 [==============================] - 1s 307us/sample - loss: 0.6610 - accuracy: 0.6184 - val_loss: 0.6628 - val_accuracy: 0.6304\n",
            "Epoch 48/150\n",
            "2500/2500 [==============================] - 1s 295us/sample - loss: 0.6614 - accuracy: 0.6160 - val_loss: 0.6631 - val_accuracy: 0.6324\n",
            "Epoch 49/150\n",
            "2500/2500 [==============================] - 1s 298us/sample - loss: 0.6606 - accuracy: 0.6224 - val_loss: 0.6631 - val_accuracy: 0.6312\n",
            "Epoch 50/150\n",
            "2500/2500 [==============================] - 1s 300us/sample - loss: 0.6598 - accuracy: 0.6192 - val_loss: 0.6622 - val_accuracy: 0.6356\n",
            "Epoch 51/150\n",
            "2500/2500 [==============================] - 1s 311us/sample - loss: 0.6604 - accuracy: 0.6188 - val_loss: 0.6624 - val_accuracy: 0.6344\n",
            "Epoch 52/150\n",
            "2500/2500 [==============================] - 1s 353us/sample - loss: 0.6592 - accuracy: 0.6204 - val_loss: 0.6656 - val_accuracy: 0.6260\n",
            "Epoch 53/150\n",
            "2500/2500 [==============================] - 1s 301us/sample - loss: 0.6608 - accuracy: 0.6200 - val_loss: 0.6669 - val_accuracy: 0.6188\n",
            "Epoch 54/150\n",
            "2500/2500 [==============================] - 1s 345us/sample - loss: 0.6592 - accuracy: 0.6196 - val_loss: 0.6657 - val_accuracy: 0.6228\n",
            "Epoch 55/150\n",
            "2500/2500 [==============================] - 1s 322us/sample - loss: 0.6586 - accuracy: 0.6204 - val_loss: 0.6639 - val_accuracy: 0.6320\n",
            "Epoch 56/150\n",
            "2500/2500 [==============================] - 1s 304us/sample - loss: 0.6589 - accuracy: 0.6204 - val_loss: 0.6663 - val_accuracy: 0.6248\n",
            "Epoch 57/150\n",
            "2500/2500 [==============================] - 1s 302us/sample - loss: 0.6586 - accuracy: 0.6208 - val_loss: 0.6667 - val_accuracy: 0.6224\n",
            "Epoch 58/150\n",
            "2500/2500 [==============================] - 1s 299us/sample - loss: 0.6574 - accuracy: 0.6196 - val_loss: 0.6650 - val_accuracy: 0.6292\n",
            "Epoch 59/150\n",
            "2500/2500 [==============================] - 1s 304us/sample - loss: 0.6578 - accuracy: 0.6240 - val_loss: 0.6666 - val_accuracy: 0.6276\n",
            "Epoch 60/150\n",
            "2500/2500 [==============================] - 1s 301us/sample - loss: 0.6563 - accuracy: 0.6216 - val_loss: 0.6692 - val_accuracy: 0.6136\n",
            "Epoch 61/150\n",
            "2500/2500 [==============================] - 1s 297us/sample - loss: 0.6568 - accuracy: 0.6212 - val_loss: 0.6669 - val_accuracy: 0.6296\n",
            "Epoch 62/150\n",
            "2500/2500 [==============================] - 1s 292us/sample - loss: 0.6553 - accuracy: 0.6212 - val_loss: 0.6666 - val_accuracy: 0.6276\n",
            "Epoch 63/150\n",
            "2500/2500 [==============================] - 1s 302us/sample - loss: 0.6490 - accuracy: 0.6352 - val_loss: 0.6593 - val_accuracy: 0.6256\n",
            "Epoch 64/150\n",
            "2500/2500 [==============================] - 1s 310us/sample - loss: 0.6415 - accuracy: 0.6556 - val_loss: 0.6628 - val_accuracy: 0.6312\n",
            "Epoch 65/150\n",
            "2500/2500 [==============================] - 1s 301us/sample - loss: 0.6669 - accuracy: 0.6196 - val_loss: 0.6584 - val_accuracy: 0.6336\n",
            "Epoch 66/150\n",
            "2500/2500 [==============================] - 1s 304us/sample - loss: 0.6650 - accuracy: 0.6180 - val_loss: 0.6595 - val_accuracy: 0.6344\n",
            "Epoch 67/150\n",
            "2500/2500 [==============================] - 1s 298us/sample - loss: 0.6623 - accuracy: 0.6220 - val_loss: 0.6604 - val_accuracy: 0.6364\n",
            "Epoch 68/150\n",
            "2500/2500 [==============================] - 1s 308us/sample - loss: 0.6433 - accuracy: 0.6456 - val_loss: 0.6405 - val_accuracy: 0.6692\n",
            "Epoch 69/150\n",
            "2500/2500 [==============================] - 1s 307us/sample - loss: 0.6290 - accuracy: 0.6740 - val_loss: 0.6221 - val_accuracy: 0.6984\n",
            "Epoch 70/150\n",
            "2500/2500 [==============================] - 1s 309us/sample - loss: 0.5995 - accuracy: 0.6960 - val_loss: 0.6106 - val_accuracy: 0.7004\n",
            "Epoch 71/150\n",
            "2500/2500 [==============================] - 1s 297us/sample - loss: 0.5852 - accuracy: 0.7020 - val_loss: 0.6016 - val_accuracy: 0.7140\n",
            "Epoch 72/150\n",
            "2500/2500 [==============================] - 1s 295us/sample - loss: 0.5821 - accuracy: 0.7088 - val_loss: 0.6112 - val_accuracy: 0.6948\n",
            "Epoch 73/150\n",
            "2500/2500 [==============================] - 1s 297us/sample - loss: 0.5782 - accuracy: 0.7068 - val_loss: 0.5902 - val_accuracy: 0.7116\n",
            "Epoch 74/150\n",
            "2500/2500 [==============================] - 1s 305us/sample - loss: 0.5692 - accuracy: 0.7168 - val_loss: 0.5825 - val_accuracy: 0.7188\n",
            "Epoch 75/150\n",
            "2500/2500 [==============================] - 1s 302us/sample - loss: 0.5611 - accuracy: 0.7224 - val_loss: 0.5785 - val_accuracy: 0.7268\n",
            "Epoch 76/150\n",
            "2500/2500 [==============================] - 1s 304us/sample - loss: 0.5540 - accuracy: 0.7292 - val_loss: 0.5803 - val_accuracy: 0.7264\n",
            "Epoch 77/150\n",
            "2500/2500 [==============================] - 1s 297us/sample - loss: 0.5585 - accuracy: 0.7244 - val_loss: 0.5878 - val_accuracy: 0.7148\n",
            "Epoch 78/150\n",
            "2500/2500 [==============================] - 1s 349us/sample - loss: 0.5589 - accuracy: 0.7252 - val_loss: 0.5722 - val_accuracy: 0.7272\n",
            "Epoch 79/150\n",
            "2500/2500 [==============================] - 1s 310us/sample - loss: 0.5502 - accuracy: 0.7240 - val_loss: 0.5740 - val_accuracy: 0.7312\n",
            "Epoch 80/150\n",
            "2500/2500 [==============================] - 1s 303us/sample - loss: 0.5607 - accuracy: 0.7204 - val_loss: 0.5888 - val_accuracy: 0.7072\n",
            "Epoch 81/150\n",
            "2500/2500 [==============================] - 1s 302us/sample - loss: 0.5726 - accuracy: 0.7112 - val_loss: 0.5801 - val_accuracy: 0.7172\n",
            "Epoch 82/150\n",
            "2500/2500 [==============================] - 1s 304us/sample - loss: 0.5563 - accuracy: 0.7244 - val_loss: 0.5748 - val_accuracy: 0.7284\n",
            "Epoch 83/150\n",
            "2500/2500 [==============================] - 1s 303us/sample - loss: 0.5481 - accuracy: 0.7308 - val_loss: 0.5733 - val_accuracy: 0.7316\n",
            "Epoch 84/150\n",
            "2500/2500 [==============================] - 1s 304us/sample - loss: 0.5483 - accuracy: 0.7332 - val_loss: 0.5848 - val_accuracy: 0.7140\n",
            "Epoch 85/150\n",
            "2500/2500 [==============================] - 1s 298us/sample - loss: 0.5563 - accuracy: 0.7236 - val_loss: 0.5869 - val_accuracy: 0.7192\n",
            "Epoch 86/150\n",
            "2500/2500 [==============================] - 1s 302us/sample - loss: 0.5448 - accuracy: 0.7308 - val_loss: 0.5656 - val_accuracy: 0.7324\n",
            "Epoch 87/150\n",
            "2500/2500 [==============================] - 1s 301us/sample - loss: 0.5376 - accuracy: 0.7376 - val_loss: 0.5690 - val_accuracy: 0.7284\n",
            "Epoch 88/150\n",
            "2500/2500 [==============================] - 1s 298us/sample - loss: 0.5345 - accuracy: 0.7356 - val_loss: 0.5598 - val_accuracy: 0.7364\n",
            "Epoch 89/150\n",
            "2500/2500 [==============================] - 1s 299us/sample - loss: 0.5318 - accuracy: 0.7384 - val_loss: 0.5612 - val_accuracy: 0.7332\n",
            "Epoch 90/150\n",
            "2500/2500 [==============================] - 1s 307us/sample - loss: 0.5391 - accuracy: 0.7340 - val_loss: 0.5711 - val_accuracy: 0.7288\n",
            "Epoch 91/150\n",
            "2500/2500 [==============================] - 1s 300us/sample - loss: 0.5453 - accuracy: 0.7296 - val_loss: 0.5604 - val_accuracy: 0.7348\n",
            "Epoch 92/150\n",
            "2500/2500 [==============================] - 1s 303us/sample - loss: 0.5333 - accuracy: 0.7404 - val_loss: 0.5619 - val_accuracy: 0.7352\n",
            "Epoch 93/150\n",
            "2500/2500 [==============================] - 1s 295us/sample - loss: 0.5404 - accuracy: 0.7380 - val_loss: 0.5581 - val_accuracy: 0.7380\n",
            "Epoch 94/150\n",
            "2500/2500 [==============================] - 1s 304us/sample - loss: 0.5325 - accuracy: 0.7416 - val_loss: 0.5659 - val_accuracy: 0.7288\n",
            "Epoch 95/150\n",
            "2500/2500 [==============================] - 1s 307us/sample - loss: 0.5584 - accuracy: 0.7208 - val_loss: 0.5678 - val_accuracy: 0.7300\n",
            "Epoch 96/150\n",
            "2500/2500 [==============================] - 1s 299us/sample - loss: 0.5424 - accuracy: 0.7340 - val_loss: 0.5633 - val_accuracy: 0.7368\n",
            "Epoch 97/150\n",
            "2500/2500 [==============================] - 1s 304us/sample - loss: 0.5353 - accuracy: 0.7392 - val_loss: 0.5633 - val_accuracy: 0.7296\n",
            "Epoch 98/150\n",
            "2500/2500 [==============================] - 1s 299us/sample - loss: 0.5291 - accuracy: 0.7444 - val_loss: 0.5594 - val_accuracy: 0.7352\n",
            "Epoch 99/150\n",
            "2500/2500 [==============================] - 1s 297us/sample - loss: 0.5298 - accuracy: 0.7424 - val_loss: 0.5577 - val_accuracy: 0.7320\n",
            "Epoch 100/150\n",
            "2500/2500 [==============================] - 1s 306us/sample - loss: 0.5271 - accuracy: 0.7468 - val_loss: 0.5598 - val_accuracy: 0.7404\n",
            "Epoch 101/150\n",
            "2500/2500 [==============================] - 1s 289us/sample - loss: 0.5255 - accuracy: 0.7460 - val_loss: 0.5586 - val_accuracy: 0.7384\n",
            "Epoch 102/150\n",
            "2500/2500 [==============================] - 1s 297us/sample - loss: 0.5230 - accuracy: 0.7452 - val_loss: 0.5575 - val_accuracy: 0.7408\n",
            "Epoch 103/150\n",
            "2500/2500 [==============================] - 1s 302us/sample - loss: 0.5216 - accuracy: 0.7464 - val_loss: 0.5624 - val_accuracy: 0.7320\n",
            "Epoch 104/150\n",
            "2500/2500 [==============================] - 1s 296us/sample - loss: 0.5216 - accuracy: 0.7472 - val_loss: 0.5609 - val_accuracy: 0.7368\n",
            "Epoch 105/150\n",
            "2500/2500 [==============================] - 1s 296us/sample - loss: 0.5224 - accuracy: 0.7464 - val_loss: 0.5666 - val_accuracy: 0.7312\n",
            "Epoch 106/150\n",
            "2500/2500 [==============================] - 1s 300us/sample - loss: 0.5250 - accuracy: 0.7444 - val_loss: 0.5561 - val_accuracy: 0.7340\n",
            "Epoch 107/150\n",
            "2500/2500 [==============================] - 1s 302us/sample - loss: 0.5286 - accuracy: 0.7460 - val_loss: 0.5547 - val_accuracy: 0.7412\n",
            "Epoch 108/150\n",
            "2500/2500 [==============================] - 1s 297us/sample - loss: 0.5199 - accuracy: 0.7484 - val_loss: 0.5575 - val_accuracy: 0.7388\n",
            "Epoch 109/150\n",
            "2500/2500 [==============================] - 1s 299us/sample - loss: 0.5203 - accuracy: 0.7440 - val_loss: 0.5616 - val_accuracy: 0.7336\n",
            "Epoch 110/150\n",
            "2500/2500 [==============================] - 1s 291us/sample - loss: 0.5222 - accuracy: 0.7452 - val_loss: 0.5596 - val_accuracy: 0.7348\n",
            "Epoch 111/150\n",
            "2500/2500 [==============================] - 1s 297us/sample - loss: 0.5184 - accuracy: 0.7528 - val_loss: 0.5663 - val_accuracy: 0.7336\n",
            "Epoch 112/150\n",
            "2500/2500 [==============================] - 1s 294us/sample - loss: 0.5218 - accuracy: 0.7516 - val_loss: 0.5643 - val_accuracy: 0.7260\n",
            "Epoch 113/150\n",
            "2500/2500 [==============================] - 1s 294us/sample - loss: 0.5221 - accuracy: 0.7464 - val_loss: 0.5573 - val_accuracy: 0.7280\n",
            "Epoch 114/150\n",
            "2500/2500 [==============================] - 1s 296us/sample - loss: 0.5188 - accuracy: 0.7460 - val_loss: 0.5685 - val_accuracy: 0.7348\n",
            "Epoch 115/150\n",
            "2500/2500 [==============================] - 1s 305us/sample - loss: 0.5176 - accuracy: 0.7460 - val_loss: 0.5549 - val_accuracy: 0.7376\n",
            "Epoch 116/150\n",
            "2500/2500 [==============================] - 1s 295us/sample - loss: 0.5171 - accuracy: 0.7476 - val_loss: 0.5652 - val_accuracy: 0.7404\n",
            "Epoch 117/150\n",
            "2500/2500 [==============================] - 1s 309us/sample - loss: 0.5184 - accuracy: 0.7460 - val_loss: 0.5547 - val_accuracy: 0.7324\n",
            "Epoch 118/150\n",
            "2500/2500 [==============================] - 1s 346us/sample - loss: 0.5138 - accuracy: 0.7496 - val_loss: 0.5592 - val_accuracy: 0.7300\n",
            "Epoch 119/150\n",
            "2500/2500 [==============================] - 1s 301us/sample - loss: 0.5161 - accuracy: 0.7484 - val_loss: 0.5537 - val_accuracy: 0.7348\n",
            "Epoch 120/150\n",
            "2500/2500 [==============================] - 1s 290us/sample - loss: 0.5144 - accuracy: 0.7480 - val_loss: 0.5554 - val_accuracy: 0.7276\n",
            "Epoch 121/150\n",
            "2500/2500 [==============================] - 1s 307us/sample - loss: 0.5131 - accuracy: 0.7492 - val_loss: 0.5618 - val_accuracy: 0.7296\n",
            "Epoch 122/150\n",
            "2500/2500 [==============================] - 1s 317us/sample - loss: 0.5328 - accuracy: 0.7416 - val_loss: 0.5813 - val_accuracy: 0.7332\n",
            "Epoch 123/150\n",
            "2500/2500 [==============================] - 1s 308us/sample - loss: 0.5256 - accuracy: 0.7448 - val_loss: 0.5607 - val_accuracy: 0.7340\n",
            "Epoch 124/150\n",
            "2500/2500 [==============================] - 1s 301us/sample - loss: 0.5254 - accuracy: 0.7436 - val_loss: 0.5548 - val_accuracy: 0.7372\n",
            "Epoch 125/150\n",
            "2500/2500 [==============================] - 1s 296us/sample - loss: 0.5236 - accuracy: 0.7484 - val_loss: 0.5600 - val_accuracy: 0.7332\n",
            "Epoch 126/150\n",
            "2500/2500 [==============================] - 1s 299us/sample - loss: 0.5428 - accuracy: 0.7392 - val_loss: 0.5584 - val_accuracy: 0.7392\n",
            "Epoch 127/150\n",
            "2500/2500 [==============================] - 1s 306us/sample - loss: 0.5211 - accuracy: 0.7468 - val_loss: 0.5766 - val_accuracy: 0.7332\n",
            "Epoch 128/150\n",
            "2500/2500 [==============================] - 1s 308us/sample - loss: 0.5159 - accuracy: 0.7504 - val_loss: 0.5530 - val_accuracy: 0.7388\n",
            "Epoch 129/150\n",
            "2500/2500 [==============================] - 1s 296us/sample - loss: 0.5124 - accuracy: 0.7544 - val_loss: 0.5551 - val_accuracy: 0.7328\n",
            "Epoch 130/150\n",
            "2500/2500 [==============================] - 1s 317us/sample - loss: 0.5138 - accuracy: 0.7532 - val_loss: 0.5580 - val_accuracy: 0.7332\n",
            "Epoch 131/150\n",
            "2500/2500 [==============================] - 1s 335us/sample - loss: 0.5139 - accuracy: 0.7528 - val_loss: 0.5575 - val_accuracy: 0.7356\n",
            "Epoch 132/150\n",
            "2500/2500 [==============================] - 1s 306us/sample - loss: 0.5136 - accuracy: 0.7492 - val_loss: 0.5673 - val_accuracy: 0.7224\n",
            "Epoch 133/150\n",
            "2500/2500 [==============================] - 1s 347us/sample - loss: 0.5179 - accuracy: 0.7492 - val_loss: 0.5547 - val_accuracy: 0.7336\n",
            "Epoch 134/150\n",
            "2500/2500 [==============================] - 1s 321us/sample - loss: 0.5220 - accuracy: 0.7464 - val_loss: 0.5592 - val_accuracy: 0.7308\n",
            "Epoch 135/150\n",
            "2500/2500 [==============================] - 1s 301us/sample - loss: 0.5201 - accuracy: 0.7492 - val_loss: 0.5628 - val_accuracy: 0.7288\n",
            "Epoch 136/150\n",
            "2500/2500 [==============================] - 1s 301us/sample - loss: 0.5267 - accuracy: 0.7432 - val_loss: 0.5889 - val_accuracy: 0.7188\n",
            "Epoch 137/150\n",
            "2500/2500 [==============================] - 1s 295us/sample - loss: 0.5307 - accuracy: 0.7348 - val_loss: 0.5654 - val_accuracy: 0.7292\n",
            "Epoch 138/150\n",
            "2500/2500 [==============================] - 1s 299us/sample - loss: 0.5227 - accuracy: 0.7436 - val_loss: 0.5755 - val_accuracy: 0.7260\n",
            "Epoch 139/150\n",
            "2500/2500 [==============================] - 1s 299us/sample - loss: 0.5208 - accuracy: 0.7432 - val_loss: 0.5623 - val_accuracy: 0.7296\n",
            "Epoch 140/150\n",
            "2500/2500 [==============================] - 1s 304us/sample - loss: 0.5160 - accuracy: 0.7508 - val_loss: 0.5622 - val_accuracy: 0.7276\n",
            "Epoch 141/150\n",
            "2500/2500 [==============================] - 1s 290us/sample - loss: 0.5152 - accuracy: 0.7488 - val_loss: 0.5642 - val_accuracy: 0.7304\n",
            "Epoch 142/150\n",
            "2500/2500 [==============================] - 1s 292us/sample - loss: 0.5119 - accuracy: 0.7544 - val_loss: 0.5685 - val_accuracy: 0.7360\n",
            "Epoch 143/150\n",
            "2500/2500 [==============================] - 1s 302us/sample - loss: 0.5142 - accuracy: 0.7524 - val_loss: 0.5686 - val_accuracy: 0.7296\n",
            "Epoch 144/150\n",
            "2500/2500 [==============================] - 1s 292us/sample - loss: 0.5116 - accuracy: 0.7532 - val_loss: 0.5646 - val_accuracy: 0.7252\n",
            "Epoch 145/150\n",
            "2500/2500 [==============================] - 1s 296us/sample - loss: 0.5162 - accuracy: 0.7488 - val_loss: 0.5659 - val_accuracy: 0.7260\n",
            "Epoch 146/150\n",
            "2500/2500 [==============================] - 1s 302us/sample - loss: 0.5139 - accuracy: 0.7516 - val_loss: 0.5711 - val_accuracy: 0.7220\n",
            "Epoch 147/150\n",
            "2500/2500 [==============================] - 1s 313us/sample - loss: 0.5185 - accuracy: 0.7500 - val_loss: 0.5628 - val_accuracy: 0.7296\n",
            "Epoch 148/150\n",
            "2500/2500 [==============================] - 1s 301us/sample - loss: 0.5147 - accuracy: 0.7484 - val_loss: 0.5624 - val_accuracy: 0.7276\n",
            "Epoch 149/150\n",
            "2500/2500 [==============================] - 1s 301us/sample - loss: 0.5173 - accuracy: 0.7520 - val_loss: 0.5626 - val_accuracy: 0.7316\n",
            "Epoch 150/150\n",
            "2500/2500 [==============================] - 1s 299us/sample - loss: 0.5147 - accuracy: 0.7540 - val_loss: 0.5591 - val_accuracy: 0.7332\n"
          ],
          "name": "stdout"
        }
      ]
    },
    {
      "cell_type": "code",
      "metadata": {
        "id": "WxXbPv9J4W1M",
        "colab_type": "code",
        "colab": {
          "base_uri": "https://localhost:8080/",
          "height": 284
        },
        "outputId": "191a6d87-c37c-41c9-a783-9f5c4bdeac31"
      },
      "source": [
        "plt.plot(r.history[\"accuracy\"], label = \"acc\")\n",
        "plt.plot(r.history[\"val_accuracy\"], label = \"val_acc\")\n",
        "plt.legend()"
      ],
      "execution_count": 30,
      "outputs": [
        {
          "output_type": "execute_result",
          "data": {
            "text/plain": [
              "<matplotlib.legend.Legend at 0x7f5bc72a0208>"
            ]
          },
          "metadata": {
            "tags": []
          },
          "execution_count": 30
        },
        {
          "output_type": "display_data",
          "data": {
            "image/png": "[encoded data removed]",
            "text/plain": [
              "<Figure size 432x288 with 1 Axes>"
            ]
          },
          "metadata": {
            "tags": []
          }
        }
      ]
    }
  ]
}