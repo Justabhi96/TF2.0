{
  "nbformat": 4,
  "nbformat_minor": 0,
  "metadata": {
    "colab": {
      "name": "Udemy TF2.0 - RNN Image Classification.ipynb",
      "provenance": [],
      "collapsed_sections": [],
      "include_colab_link": true
    },
    "kernelspec": {
      "name": "python3",
      "display_name": "Python 3"
    },
    "accelerator": "GPU"
  },
  "cells": [
    {
      "cell_type": "markdown",
      "metadata": {
        "id": "view-in-github",
        "colab_type": "text"
      },
      "source": [
        "<a href=\"https://colab.research.google.com/github/Justabhi96/TF2.0/blob/master/14_RNN_Image_Classification.ipynb\" target=\"_parent\"><img src=\"https://colab.research.google.com/assets/colab-badge.svg\" alt=\"Open In Colab\"/></a>"
      ]
    },
    {
      "cell_type": "code",
      "metadata": {
        "id": "GLmULndzaZgD",
        "colab_type": "code",
        "outputId": "ea29f96a-d11f-4ced-c968-67ab95e97c31",
        "colab": {
          "base_uri": "https://localhost:8080/",
          "height": 69
        }
      },
      "source": [
        "!pip install -q tensorflow==2.0.0-beta1"
      ],
      "execution_count": 0,
      "outputs": [
        {
          "output_type": "stream",
          "text": [
            "\u001b[K     |████████████████████████████████| 87.9MB 50kB/s \n",
            "\u001b[K     |████████████████████████████████| 501kB 54.6MB/s \n",
            "\u001b[K     |████████████████████████████████| 3.1MB 60.0MB/s \n",
            "\u001b[?25h"
          ],
          "name": "stdout"
        }
      ]
    },
    {
      "cell_type": "code",
      "metadata": {
        "id": "enXH62K5ar5e",
        "colab_type": "code",
        "colab": {}
      },
      "source": [
        "from tensorflow.keras.layers import Dense, SimpleRNN, LSTM, Flatten, Input, GlobalMaxPooling1D\n",
        "from tensorflow.keras.models import Model\n",
        "from tensorflow.keras.optimizers import Adam, SGD\n",
        "from tensorflow.keras.datasets import fashion_mnist\n",
        "import numpy as np\n",
        "import pandas as pd\n",
        "import matplotlib.pyplot as plt\n",
        "import cv2\n",
        "from google.colab.patches import cv2_imshow"
      ],
      "execution_count": 0,
      "outputs": []
    },
    {
      "cell_type": "code",
      "metadata": {
        "id": "ewJb75rFcQTA",
        "colab_type": "code",
        "outputId": "a4a6afa2-0379-4475-bd20-4f58bdb6145f",
        "colab": {
          "base_uri": "https://localhost:8080/",
          "height": 35
        }
      },
      "source": [
        "(X_train, y_train), (X_test, y_test) = fashion_mnist.load_data()\n",
        "X_train, X_test = X_train/255.0, X_test/255.0\n",
        "X_train.shape"
      ],
      "execution_count": 0,
      "outputs": [
        {
          "output_type": "execute_result",
          "data": {
            "text/plain": [
              "(60000, 28, 28)"
            ]
          },
          "metadata": {
            "tags": []
          },
          "execution_count": 15
        }
      ]
    },
    {
      "cell_type": "code",
      "metadata": {
        "id": "f9n7cdbj1Lzb",
        "colab_type": "code",
        "outputId": "a3fc0c1c-7eab-4f72-8667-a2f969a7d738",
        "colab": {
          "base_uri": "https://localhost:8080/",
          "height": 45
        }
      },
      "source": [
        "cv2_imshow(X_train[0])"
      ],
      "execution_count": 0,
      "outputs": [
        {
          "output_type": "display_data",
          "data": {
            "image/png": "[encoded data removed]",
            "text/plain": [
              "<PIL.Image.Image image mode=L size=28x28 at 0x7FA776904B70>"
            ]
          },
          "metadata": {
            "tags": []
          }
        }
      ]
    },
    {
      "cell_type": "code",
      "metadata": {
        "id": "Tbe8IOTo1lgo",
        "colab_type": "code",
        "colab": {}
      },
      "source": [
        "T, D = X_train[0].shape"
      ],
      "execution_count": 0,
      "outputs": []
    },
    {
      "cell_type": "code",
      "metadata": {
        "id": "ljVBTv3rxTHZ",
        "colab_type": "code",
        "outputId": "2c3413d7-fccb-4e98-bdaa-1d38e4ef9aaa",
        "colab": {
          "base_uri": "https://localhost:8080/",
          "height": 381
        }
      },
      "source": [
        "i = Input(shape = (T, D))\n",
        "x = LSTM(128, activation = None)(i)\n",
        "x = Dense(10, activation = \"softmax\")(x)\n",
        "\n",
        "model = Model(i, x)\n",
        "model.compile(loss = \"sparse_categorical_crossentropy\", optimizer = \"adam\", metrics = [\"accuracy\"])\n",
        "\n",
        "r = model.fit(X_train, y_train, validation_data = (X_test, y_test), epochs = 10)"
      ],
      "execution_count": 0,
      "outputs": [
        {
          "output_type": "stream",
          "text": [
            "Train on 60000 samples, validate on 10000 samples\n",
            "Epoch 1/10\n",
            "60000/60000 [==============================] - 70s 1ms/sample - loss: 0.6154 - accuracy: 0.7746 - val_loss: 0.4553 - val_accuracy: 0.8310\n",
            "Epoch 2/10\n",
            "60000/60000 [==============================] - 71s 1ms/sample - loss: 0.4279 - accuracy: 0.8423 - val_loss: 0.4170 - val_accuracy: 0.8480\n",
            "Epoch 3/10\n",
            "60000/60000 [==============================] - 71s 1ms/sample - loss: 0.3763 - accuracy: 0.8610 - val_loss: 0.3842 - val_accuracy: 0.8593\n",
            "Epoch 4/10\n",
            "60000/60000 [==============================] - 73s 1ms/sample - loss: 0.3457 - accuracy: 0.8708 - val_loss: 0.3583 - val_accuracy: 0.8706\n",
            "Epoch 5/10\n",
            "60000/60000 [==============================] - 73s 1ms/sample - loss: 0.3207 - accuracy: 0.8802 - val_loss: 0.3631 - val_accuracy: 0.8680\n",
            "Epoch 6/10\n",
            "60000/60000 [==============================] - 74s 1ms/sample - loss: 0.3028 - accuracy: 0.8864 - val_loss: 0.3437 - val_accuracy: 0.8744\n",
            "Epoch 7/10\n",
            "60000/60000 [==============================] - 73s 1ms/sample - loss: 0.2879 - accuracy: 0.8931 - val_loss: 0.3094 - val_accuracy: 0.8846\n",
            "Epoch 8/10\n",
            "60000/60000 [==============================] - 73s 1ms/sample - loss: 0.2717 - accuracy: 0.8974 - val_loss: 0.3090 - val_accuracy: 0.8902\n",
            "Epoch 9/10\n",
            "60000/60000 [==============================] - 73s 1ms/sample - loss: 0.2599 - accuracy: 0.9007 - val_loss: 0.3322 - val_accuracy: 0.8830\n",
            "Epoch 10/10\n",
            "60000/60000 [==============================] - 73s 1ms/sample - loss: 0.2481 - accuracy: 0.9064 - val_loss: 0.2941 - val_accuracy: 0.8942\n"
          ],
          "name": "stdout"
        }
      ]
    },
    {
      "cell_type": "code",
      "metadata": {
        "id": "OiqurZ2eSp9Y",
        "colab_type": "code",
        "outputId": "d65e7f05-bad4-4743-9ae5-90b09e2b7870",
        "colab": {
          "base_uri": "https://localhost:8080/",
          "height": 283
        }
      },
      "source": [
        "plt.plot(r.history[\"loss\"], label = \"loss\")\n",
        "plt.plot(r.history[\"val_loss\"], label = \"val_loss\")\n",
        "plt.legend()"
      ],
      "execution_count": 0,
      "outputs": [
        {
          "output_type": "execute_result",
          "data": {
            "text/plain": [
              "<matplotlib.legend.Legend at 0x7fa7299d06a0>"
            ]
          },
          "metadata": {
            "tags": []
          },
          "execution_count": 19
        },
        {
          "output_type": "display_data",
          "data": {
            "image/png": "[encoded data removed]",
            "text/plain": [
              "<Figure size 432x288 with 1 Axes>"
            ]
          },
          "metadata": {
            "tags": []
          }
        }
      ]
    },
    {
      "cell_type": "code",
      "metadata": {
        "id": "vKb-SqrWTirW",
        "colab_type": "code",
        "outputId": "6f6397bf-6a0b-457e-c309-958adb0da397",
        "colab": {
          "base_uri": "https://localhost:8080/",
          "height": 283
        }
      },
      "source": [
        "plt.plot(r.history[\"accuracy\"], label = \"accuracy\")\n",
        "plt.plot(r.history[\"val_accuracy\"], label = \"val_accuracy\")\n",
        "plt.legend()"
      ],
      "execution_count": 0,
      "outputs": [
        {
          "output_type": "execute_result",
          "data": {
            "text/plain": [
              "<matplotlib.legend.Legend at 0x7fa7294b80f0>"
            ]
          },
          "metadata": {
            "tags": []
          },
          "execution_count": 20
        },
        {
          "output_type": "display_data",
          "data": {
            "image/png": "[encoded data removed]",
            "text/plain": [
              "<Figure size 432x288 with 1 Axes>"
            ]
          },
          "metadata": {
            "tags": []
          }
        }
      ]
    }
  ]
}