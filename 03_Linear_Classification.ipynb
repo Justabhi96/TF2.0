{
  "nbformat": 4,
  "nbformat_minor": 0,
  "metadata": {
    "colab": {
      "name": "Udemy TF2.0 - Linear Classification.ipynb",
      "provenance": [],
      "include_colab_link": true
    },
    "kernelspec": {
      "name": "python3",
      "display_name": "Python 3"
    },
    "accelerator": "GPU"
  },
  "cells": [
    {
      "cell_type": "markdown",
      "metadata": {
        "id": "view-in-github",
        "colab_type": "text"
      },
      "source": [
        "<a href=\"https://colab.research.google.com/github/Justabhi96/TF2.0/blob/master/3_Linear_Classification.ipynb\" target=\"_parent\"><img src=\"https://colab.research.google.com/assets/colab-badge.svg\" alt=\"Open In Colab\"/></a>"
      ]
    },
    {
      "cell_type": "code",
      "metadata": {
        "id": "5NjueAz3nH5m",
        "colab_type": "code",
        "colab": {}
      },
      "source": [
        "!pip install -q tensorflow==2.0.0-beta1\n",
        "import tensorflow as tf"
      ],
      "execution_count": 0,
      "outputs": []
    },
    {
      "cell_type": "code",
      "metadata": {
        "id": "cgjGa8yKnX9x",
        "colab_type": "code",
        "outputId": "ff23b769-336d-4d67-9c3c-bf978895c97c",
        "colab": {
          "base_uri": "https://localhost:8080/",
          "height": 35
        }
      },
      "source": [
        "from sklearn.datasets import load_breast_cancer\n",
        "data = load_breast_cancer()\n",
        "type(data)"
      ],
      "execution_count": 0,
      "outputs": [
        {
          "output_type": "execute_result",
          "data": {
            "text/plain": [
              "sklearn.utils.Bunch"
            ]
          },
          "metadata": {
            "tags": []
          },
          "execution_count": 3
        }
      ]
    },
    {
      "cell_type": "code",
      "metadata": {
        "id": "qY2cBfx-oZUt",
        "colab_type": "code",
        "outputId": "cd597608-4233-4d4c-c04a-26efa30c2e3c",
        "colab": {
          "base_uri": "https://localhost:8080/",
          "height": 1000
        }
      },
      "source": [
        "print(data.DESCR)"
      ],
      "execution_count": 0,
      "outputs": [
        {
          "output_type": "stream",
          "text": [
            ".. _breast_cancer_dataset:\n",
            "\n",
            "Breast cancer wisconsin (diagnostic) dataset\n",
            "--------------------------------------------\n",
            "\n",
            "**Data Set Characteristics:**\n",
            "\n",
            "    :Number of Instances: 569\n",
            "\n",
            "    :Number of Attributes: 30 numeric, predictive attributes and the class\n",
            "\n",
            "    :Attribute Information:\n",
            "        - radius (mean of distances from center to points on the perimeter)\n",
            "        - texture (standard deviation of gray-scale values)\n",
            "        - perimeter\n",
            "        - area\n",
            "        - smoothness (local variation in radius lengths)\n",
            "        - compactness (perimeter^2 / area - 1.0)\n",
            "        - concavity (severity of concave portions of the contour)\n",
            "        - concave points (number of concave portions of the contour)\n",
            "        - symmetry \n",
            "        - fractal dimension (\"coastline approximation\" - 1)\n",
            "\n",
            "        The mean, standard error, and \"worst\" or largest (mean of the three\n",
            "        largest values) of these features were computed for each image,\n",
            "        resulting in 30 features.  For instance, field 3 is Mean Radius, field\n",
            "        13 is Radius SE, field 23 is Worst Radius.\n",
            "\n",
            "        - class:\n",
            "                - WDBC-Malignant\n",
            "                - WDBC-Benign\n",
            "\n",
            "    :Summary Statistics:\n",
            "\n",
            "    ===================================== ====== ======\n",
            "                                           Min    Max\n",
            "    ===================================== ====== ======\n",
            "    radius (mean):                        6.981  28.11\n",
            "    texture (mean):                       9.71   39.28\n",
            "    perimeter (mean):                     43.79  188.5\n",
            "    area (mean):                          143.5  2501.0\n",
            "    smoothness (mean):                    0.053  0.163\n",
            "    compactness (mean):                   0.019  0.345\n",
            "    concavity (mean):                     0.0    0.427\n",
            "    concave points (mean):                0.0    0.201\n",
            "    symmetry (mean):                      0.106  0.304\n",
            "    fractal dimension (mean):             0.05   0.097\n",
            "    radius (standard error):              0.112  2.873\n",
            "    texture (standard error):             0.36   4.885\n",
            "    perimeter (standard error):           0.757  21.98\n",
            "    area (standard error):                6.802  542.2\n",
            "    smoothness (standard error):          0.002  0.031\n",
            "    compactness (standard error):         0.002  0.135\n",
            "    concavity (standard error):           0.0    0.396\n",
            "    concave points (standard error):      0.0    0.053\n",
            "    symmetry (standard error):            0.008  0.079\n",
            "    fractal dimension (standard error):   0.001  0.03\n",
            "    radius (worst):                       7.93   36.04\n",
            "    texture (worst):                      12.02  49.54\n",
            "    perimeter (worst):                    50.41  251.2\n",
            "    area (worst):                         185.2  4254.0\n",
            "    smoothness (worst):                   0.071  0.223\n",
            "    compactness (worst):                  0.027  1.058\n",
            "    concavity (worst):                    0.0    1.252\n",
            "    concave points (worst):               0.0    0.291\n",
            "    symmetry (worst):                     0.156  0.664\n",
            "    fractal dimension (worst):            0.055  0.208\n",
            "    ===================================== ====== ======\n",
            "\n",
            "    :Missing Attribute Values: None\n",
            "\n",
            "    :Class Distribution: 212 - Malignant, 357 - Benign\n",
            "\n",
            "    :Creator:  Dr. William H. Wolberg, W. Nick Street, Olvi L. Mangasarian\n",
            "\n",
            "    :Donor: Nick Street\n",
            "\n",
            "    :Date: November, 1995\n",
            "\n",
            "This is a copy of UCI ML Breast Cancer Wisconsin (Diagnostic) datasets.\n",
            "https://goo.gl/U2Uwz2\n",
            "\n",
            "Features are computed from a digitized image of a fine needle\n",
            "aspirate (FNA) of a breast mass.  They describe\n",
            "characteristics of the cell nuclei present in the image.\n",
            "\n",
            "Separating plane described above was obtained using\n",
            "Multisurface Method-Tree (MSM-T) [K. P. Bennett, \"Decision Tree\n",
            "Construction Via Linear Programming.\" Proceedings of the 4th\n",
            "Midwest Artificial Intelligence and Cognitive Science Society,\n",
            "pp. 97-101, 1992], a classification method which uses linear\n",
            "programming to construct a decision tree.  Relevant features\n",
            "were selected using an exhaustive search in the space of 1-4\n",
            "features and 1-3 separating planes.\n",
            "\n",
            "The actual linear program used to obtain the separating plane\n",
            "in the 3-dimensional space is that described in:\n",
            "[K. P. Bennett and O. L. Mangasarian: \"Robust Linear\n",
            "Programming Discrimination of Two Linearly Inseparable Sets\",\n",
            "Optimization Methods and Software 1, 1992, 23-34].\n",
            "\n",
            "This database is also available through the UW CS ftp server:\n",
            "\n",
            "ftp ftp.cs.wisc.edu\n",
            "cd math-prog/cpo-dataset/machine-learn/WDBC/\n",
            "\n",
            ".. topic:: References\n",
            "\n",
            "   - W.N. Street, W.H. Wolberg and O.L. Mangasarian. Nuclear feature extraction \n",
            "     for breast tumor diagnosis. IS&T/SPIE 1993 International Symposium on \n",
            "     Electronic Imaging: Science and Technology, volume 1905, pages 861-870,\n",
            "     San Jose, CA, 1993.\n",
            "   - O.L. Mangasarian, W.N. Street and W.H. Wolberg. Breast cancer diagnosis and \n",
            "     prognosis via linear programming. Operations Research, 43(4), pages 570-577, \n",
            "     July-August 1995.\n",
            "   - W.H. Wolberg, W.N. Street, and O.L. Mangasarian. Machine learning techniques\n",
            "     to diagnose breast cancer from fine-needle aspirates. Cancer Letters 77 (1994) \n",
            "     163-171.\n"
          ],
          "name": "stdout"
        }
      ]
    },
    {
      "cell_type": "code",
      "metadata": {
        "id": "pWnE9xFnpoKk",
        "colab_type": "code",
        "outputId": "fd8f4bc3-6fa8-408d-bdc3-46883dbca226",
        "colab": {
          "base_uri": "https://localhost:8080/",
          "height": 35
        }
      },
      "source": [
        "data.data.shape, data.target.shape"
      ],
      "execution_count": 0,
      "outputs": [
        {
          "output_type": "execute_result",
          "data": {
            "text/plain": [
              "((569, 30), (569,))"
            ]
          },
          "metadata": {
            "tags": []
          },
          "execution_count": 8
        }
      ]
    },
    {
      "cell_type": "code",
      "metadata": {
        "id": "WMRIJ2T0p-P4",
        "colab_type": "code",
        "outputId": "f107387d-980b-45e4-d289-96b4aca05934",
        "colab": {
          "base_uri": "https://localhost:8080/",
          "height": 35
        }
      },
      "source": [
        "data.target_names"
      ],
      "execution_count": 0,
      "outputs": [
        {
          "output_type": "execute_result",
          "data": {
            "text/plain": [
              "array(['malignant', 'benign'], dtype='<U9')"
            ]
          },
          "metadata": {
            "tags": []
          },
          "execution_count": 9
        }
      ]
    },
    {
      "cell_type": "code",
      "metadata": {
        "id": "LzrraN8BqMFb",
        "colab_type": "code",
        "outputId": "67e5ac4e-bca3-4020-d02c-09cd21303834",
        "colab": {
          "base_uri": "https://localhost:8080/",
          "height": 191
        }
      },
      "source": [
        "data.feature_names"
      ],
      "execution_count": 0,
      "outputs": [
        {
          "output_type": "execute_result",
          "data": {
            "text/plain": [
              "array(['mean radius', 'mean texture', 'mean perimeter', 'mean area',\n",
              "       'mean smoothness', 'mean compactness', 'mean concavity',\n",
              "       'mean concave points', 'mean symmetry', 'mean fractal dimension',\n",
              "       'radius error', 'texture error', 'perimeter error', 'area error',\n",
              "       'smoothness error', 'compactness error', 'concavity error',\n",
              "       'concave points error', 'symmetry error',\n",
              "       'fractal dimension error', 'worst radius', 'worst texture',\n",
              "       'worst perimeter', 'worst area', 'worst smoothness',\n",
              "       'worst compactness', 'worst concavity', 'worst concave points',\n",
              "       'worst symmetry', 'worst fractal dimension'], dtype='<U23')"
            ]
          },
          "metadata": {
            "tags": []
          },
          "execution_count": 10
        }
      ]
    },
    {
      "cell_type": "code",
      "metadata": {
        "id": "kmvUzqRzqPCR",
        "colab_type": "code",
        "colab": {}
      },
      "source": [
        "from sklearn.model_selection import train_test_split\n",
        "\n",
        "X_train, X_test, y_train, y_test = train_test_split(data.data, data.target, test_size = 0.33)\n",
        "N, D = X_train.shape"
      ],
      "execution_count": 0,
      "outputs": []
    },
    {
      "cell_type": "code",
      "metadata": {
        "id": "moj8xrQsrCRq",
        "colab_type": "code",
        "colab": {}
      },
      "source": [
        "from sklearn.preprocessing import StandardScaler\n",
        "scaler = StandardScaler()\n",
        "scaled_x_train = scaler.fit_transform(X_train)\n",
        "scaled_x_test = scaler.transform(X_test)"
      ],
      "execution_count": 0,
      "outputs": []
    },
    {
      "cell_type": "code",
      "metadata": {
        "id": "Y7hC01bGtnmc",
        "colab_type": "code",
        "outputId": "ef64995f-1cf0-4184-cb50-2b4e5a59d59d",
        "colab": {
          "base_uri": "https://localhost:8080/",
          "height": 1000
        }
      },
      "source": [
        "model = tf.keras.models.Sequential([\n",
        "    tf.keras.layers.Input(shape = (D,)),\n",
        "    tf.keras.layers.Dense(1, activation = \"sigmoid\")                                 \n",
        "])\n",
        "\n",
        "# Alternatively we can do \n",
        "# model = tf.keras.models.Sequential()\n",
        "# model.add(tf.keras.layers.Dense(1, input_shape = (D,), activation = \"sigmoid\"))\n",
        "\n",
        "model.compile(optimizer = \"adam\", loss = \"binary_crossentropy\", metrics = [\"accuracy\"])\n",
        "\n",
        "r = model.fit(scaled_x_train, y_train, validation_data= (scaled_x_test, y_test), epochs = 100)"
      ],
      "execution_count": 0,
      "outputs": [
        {
          "output_type": "stream",
          "text": [
            "Train on 381 samples, validate on 188 samples\n",
            "Epoch 1/100\n",
            "381/381 [==============================] - 0s 489us/sample - loss: 0.4674 - accuracy: 0.8189 - val_loss: 0.5240 - val_accuracy: 0.7979\n",
            "Epoch 2/100\n",
            "381/381 [==============================] - 0s 62us/sample - loss: 0.4214 - accuracy: 0.8504 - val_loss: 0.4861 - val_accuracy: 0.8351\n",
            "Epoch 3/100\n",
            "381/381 [==============================] - 0s 67us/sample - loss: 0.3842 - accuracy: 0.8845 - val_loss: 0.4546 - val_accuracy: 0.8564\n",
            "Epoch 4/100\n",
            "381/381 [==============================] - 0s 62us/sample - loss: 0.3538 - accuracy: 0.9055 - val_loss: 0.4286 - val_accuracy: 0.8723\n",
            "Epoch 5/100\n",
            "381/381 [==============================] - 0s 62us/sample - loss: 0.3289 - accuracy: 0.9160 - val_loss: 0.4069 - val_accuracy: 0.8883\n",
            "Epoch 6/100\n",
            "381/381 [==============================] - 0s 69us/sample - loss: 0.3079 - accuracy: 0.9160 - val_loss: 0.3877 - val_accuracy: 0.8830\n",
            "Epoch 7/100\n",
            "381/381 [==============================] - 0s 68us/sample - loss: 0.2907 - accuracy: 0.9239 - val_loss: 0.3711 - val_accuracy: 0.8883\n",
            "Epoch 8/100\n",
            "381/381 [==============================] - 0s 66us/sample - loss: 0.2754 - accuracy: 0.9291 - val_loss: 0.3566 - val_accuracy: 0.8936\n",
            "Epoch 9/100\n",
            "381/381 [==============================] - 0s 64us/sample - loss: 0.2628 - accuracy: 0.9344 - val_loss: 0.3438 - val_accuracy: 0.9096\n",
            "Epoch 10/100\n",
            "381/381 [==============================] - 0s 66us/sample - loss: 0.2513 - accuracy: 0.9370 - val_loss: 0.3312 - val_accuracy: 0.9149\n",
            "Epoch 11/100\n",
            "381/381 [==============================] - 0s 68us/sample - loss: 0.2409 - accuracy: 0.9396 - val_loss: 0.3198 - val_accuracy: 0.9202\n",
            "Epoch 12/100\n",
            "381/381 [==============================] - 0s 66us/sample - loss: 0.2317 - accuracy: 0.9396 - val_loss: 0.3094 - val_accuracy: 0.9309\n",
            "Epoch 13/100\n",
            "381/381 [==============================] - 0s 64us/sample - loss: 0.2235 - accuracy: 0.9423 - val_loss: 0.2997 - val_accuracy: 0.9309\n",
            "Epoch 14/100\n",
            "381/381 [==============================] - 0s 62us/sample - loss: 0.2160 - accuracy: 0.9501 - val_loss: 0.2906 - val_accuracy: 0.9309\n",
            "Epoch 15/100\n",
            "381/381 [==============================] - 0s 62us/sample - loss: 0.2090 - accuracy: 0.9501 - val_loss: 0.2824 - val_accuracy: 0.9309\n",
            "Epoch 16/100\n",
            "381/381 [==============================] - 0s 63us/sample - loss: 0.2027 - accuracy: 0.9501 - val_loss: 0.2744 - val_accuracy: 0.9362\n",
            "Epoch 17/100\n",
            "381/381 [==============================] - 0s 65us/sample - loss: 0.1968 - accuracy: 0.9528 - val_loss: 0.2675 - val_accuracy: 0.9362\n",
            "Epoch 18/100\n",
            "381/381 [==============================] - 0s 70us/sample - loss: 0.1915 - accuracy: 0.9580 - val_loss: 0.2603 - val_accuracy: 0.9362\n",
            "Epoch 19/100\n",
            "381/381 [==============================] - 0s 67us/sample - loss: 0.1863 - accuracy: 0.9633 - val_loss: 0.2539 - val_accuracy: 0.9362\n",
            "Epoch 20/100\n",
            "381/381 [==============================] - 0s 69us/sample - loss: 0.1818 - accuracy: 0.9659 - val_loss: 0.2474 - val_accuracy: 0.9415\n",
            "Epoch 21/100\n",
            "381/381 [==============================] - 0s 66us/sample - loss: 0.1773 - accuracy: 0.9659 - val_loss: 0.2413 - val_accuracy: 0.9415\n",
            "Epoch 22/100\n",
            "381/381 [==============================] - 0s 68us/sample - loss: 0.1733 - accuracy: 0.9659 - val_loss: 0.2353 - val_accuracy: 0.9415\n",
            "Epoch 23/100\n",
            "381/381 [==============================] - 0s 70us/sample - loss: 0.1693 - accuracy: 0.9659 - val_loss: 0.2303 - val_accuracy: 0.9415\n",
            "Epoch 24/100\n",
            "381/381 [==============================] - 0s 75us/sample - loss: 0.1659 - accuracy: 0.9659 - val_loss: 0.2249 - val_accuracy: 0.9415\n",
            "Epoch 25/100\n",
            "381/381 [==============================] - 0s 63us/sample - loss: 0.1624 - accuracy: 0.9685 - val_loss: 0.2203 - val_accuracy: 0.9415\n",
            "Epoch 26/100\n",
            "381/381 [==============================] - 0s 64us/sample - loss: 0.1591 - accuracy: 0.9685 - val_loss: 0.2156 - val_accuracy: 0.9415\n",
            "Epoch 27/100\n",
            "381/381 [==============================] - 0s 59us/sample - loss: 0.1561 - accuracy: 0.9711 - val_loss: 0.2111 - val_accuracy: 0.9415\n",
            "Epoch 28/100\n",
            "381/381 [==============================] - 0s 72us/sample - loss: 0.1532 - accuracy: 0.9738 - val_loss: 0.2068 - val_accuracy: 0.9415\n",
            "Epoch 29/100\n",
            "381/381 [==============================] - 0s 69us/sample - loss: 0.1505 - accuracy: 0.9738 - val_loss: 0.2026 - val_accuracy: 0.9415\n",
            "Epoch 30/100\n",
            "381/381 [==============================] - 0s 64us/sample - loss: 0.1479 - accuracy: 0.9711 - val_loss: 0.1985 - val_accuracy: 0.9415\n",
            "Epoch 31/100\n",
            "381/381 [==============================] - 0s 69us/sample - loss: 0.1454 - accuracy: 0.9711 - val_loss: 0.1945 - val_accuracy: 0.9415\n",
            "Epoch 32/100\n",
            "381/381 [==============================] - 0s 68us/sample - loss: 0.1431 - accuracy: 0.9738 - val_loss: 0.1908 - val_accuracy: 0.9415\n",
            "Epoch 33/100\n",
            "381/381 [==============================] - 0s 71us/sample - loss: 0.1408 - accuracy: 0.9738 - val_loss: 0.1876 - val_accuracy: 0.9415\n",
            "Epoch 34/100\n",
            "381/381 [==============================] - 0s 66us/sample - loss: 0.1387 - accuracy: 0.9764 - val_loss: 0.1840 - val_accuracy: 0.9415\n",
            "Epoch 35/100\n",
            "381/381 [==============================] - 0s 65us/sample - loss: 0.1367 - accuracy: 0.9738 - val_loss: 0.1805 - val_accuracy: 0.9415\n",
            "Epoch 36/100\n",
            "381/381 [==============================] - 0s 63us/sample - loss: 0.1347 - accuracy: 0.9738 - val_loss: 0.1773 - val_accuracy: 0.9415\n",
            "Epoch 37/100\n",
            "381/381 [==============================] - 0s 67us/sample - loss: 0.1328 - accuracy: 0.9738 - val_loss: 0.1742 - val_accuracy: 0.9415\n",
            "Epoch 38/100\n",
            "381/381 [==============================] - 0s 66us/sample - loss: 0.1310 - accuracy: 0.9764 - val_loss: 0.1714 - val_accuracy: 0.9415\n",
            "Epoch 39/100\n",
            "381/381 [==============================] - 0s 69us/sample - loss: 0.1293 - accuracy: 0.9738 - val_loss: 0.1684 - val_accuracy: 0.9415\n",
            "Epoch 40/100\n",
            "381/381 [==============================] - 0s 81us/sample - loss: 0.1276 - accuracy: 0.9738 - val_loss: 0.1655 - val_accuracy: 0.9415\n",
            "Epoch 41/100\n",
            "381/381 [==============================] - 0s 80us/sample - loss: 0.1260 - accuracy: 0.9738 - val_loss: 0.1630 - val_accuracy: 0.9415\n",
            "Epoch 42/100\n",
            "381/381 [==============================] - 0s 73us/sample - loss: 0.1244 - accuracy: 0.9738 - val_loss: 0.1608 - val_accuracy: 0.9415\n",
            "Epoch 43/100\n",
            "381/381 [==============================] - 0s 73us/sample - loss: 0.1230 - accuracy: 0.9738 - val_loss: 0.1580 - val_accuracy: 0.9468\n",
            "Epoch 44/100\n",
            "381/381 [==============================] - 0s 64us/sample - loss: 0.1216 - accuracy: 0.9738 - val_loss: 0.1552 - val_accuracy: 0.9468\n",
            "Epoch 45/100\n",
            "381/381 [==============================] - 0s 76us/sample - loss: 0.1201 - accuracy: 0.9738 - val_loss: 0.1531 - val_accuracy: 0.9468\n",
            "Epoch 46/100\n",
            "381/381 [==============================] - 0s 66us/sample - loss: 0.1189 - accuracy: 0.9764 - val_loss: 0.1507 - val_accuracy: 0.9521\n",
            "Epoch 47/100\n",
            "381/381 [==============================] - 0s 68us/sample - loss: 0.1176 - accuracy: 0.9764 - val_loss: 0.1485 - val_accuracy: 0.9521\n",
            "Epoch 48/100\n",
            "381/381 [==============================] - 0s 64us/sample - loss: 0.1163 - accuracy: 0.9764 - val_loss: 0.1464 - val_accuracy: 0.9574\n",
            "Epoch 49/100\n",
            "381/381 [==============================] - 0s 67us/sample - loss: 0.1152 - accuracy: 0.9764 - val_loss: 0.1440 - val_accuracy: 0.9574\n",
            "Epoch 50/100\n",
            "381/381 [==============================] - 0s 71us/sample - loss: 0.1140 - accuracy: 0.9764 - val_loss: 0.1422 - val_accuracy: 0.9574\n",
            "Epoch 51/100\n",
            "381/381 [==============================] - 0s 76us/sample - loss: 0.1129 - accuracy: 0.9764 - val_loss: 0.1404 - val_accuracy: 0.9574\n",
            "Epoch 52/100\n",
            "381/381 [==============================] - 0s 72us/sample - loss: 0.1119 - accuracy: 0.9764 - val_loss: 0.1384 - val_accuracy: 0.9628\n",
            "Epoch 53/100\n",
            "381/381 [==============================] - 0s 83us/sample - loss: 0.1108 - accuracy: 0.9764 - val_loss: 0.1367 - val_accuracy: 0.9628\n",
            "Epoch 54/100\n",
            "381/381 [==============================] - 0s 66us/sample - loss: 0.1098 - accuracy: 0.9764 - val_loss: 0.1349 - val_accuracy: 0.9628\n",
            "Epoch 55/100\n",
            "381/381 [==============================] - 0s 70us/sample - loss: 0.1088 - accuracy: 0.9764 - val_loss: 0.1334 - val_accuracy: 0.9628\n",
            "Epoch 56/100\n",
            "381/381 [==============================] - 0s 71us/sample - loss: 0.1078 - accuracy: 0.9764 - val_loss: 0.1317 - val_accuracy: 0.9628\n",
            "Epoch 57/100\n",
            "381/381 [==============================] - 0s 77us/sample - loss: 0.1069 - accuracy: 0.9764 - val_loss: 0.1298 - val_accuracy: 0.9628\n",
            "Epoch 58/100\n",
            "381/381 [==============================] - 0s 69us/sample - loss: 0.1060 - accuracy: 0.9764 - val_loss: 0.1283 - val_accuracy: 0.9628\n",
            "Epoch 59/100\n",
            "381/381 [==============================] - 0s 62us/sample - loss: 0.1052 - accuracy: 0.9764 - val_loss: 0.1268 - val_accuracy: 0.9628\n",
            "Epoch 60/100\n",
            "381/381 [==============================] - 0s 73us/sample - loss: 0.1043 - accuracy: 0.9764 - val_loss: 0.1254 - val_accuracy: 0.9628\n",
            "Epoch 61/100\n",
            "381/381 [==============================] - 0s 67us/sample - loss: 0.1035 - accuracy: 0.9764 - val_loss: 0.1242 - val_accuracy: 0.9628\n",
            "Epoch 62/100\n",
            "381/381 [==============================] - 0s 70us/sample - loss: 0.1027 - accuracy: 0.9764 - val_loss: 0.1227 - val_accuracy: 0.9628\n",
            "Epoch 63/100\n",
            "381/381 [==============================] - 0s 63us/sample - loss: 0.1019 - accuracy: 0.9764 - val_loss: 0.1212 - val_accuracy: 0.9628\n",
            "Epoch 64/100\n",
            "381/381 [==============================] - 0s 65us/sample - loss: 0.1011 - accuracy: 0.9790 - val_loss: 0.1200 - val_accuracy: 0.9628\n",
            "Epoch 65/100\n",
            "381/381 [==============================] - 0s 68us/sample - loss: 0.1004 - accuracy: 0.9816 - val_loss: 0.1188 - val_accuracy: 0.9628\n",
            "Epoch 66/100\n",
            "381/381 [==============================] - 0s 60us/sample - loss: 0.0997 - accuracy: 0.9816 - val_loss: 0.1176 - val_accuracy: 0.9681\n",
            "Epoch 67/100\n",
            "381/381 [==============================] - 0s 68us/sample - loss: 0.0990 - accuracy: 0.9816 - val_loss: 0.1164 - val_accuracy: 0.9681\n",
            "Epoch 68/100\n",
            "381/381 [==============================] - 0s 63us/sample - loss: 0.0984 - accuracy: 0.9816 - val_loss: 0.1151 - val_accuracy: 0.9681\n",
            "Epoch 69/100\n",
            "381/381 [==============================] - 0s 63us/sample - loss: 0.0977 - accuracy: 0.9816 - val_loss: 0.1142 - val_accuracy: 0.9734\n",
            "Epoch 70/100\n",
            "381/381 [==============================] - 0s 64us/sample - loss: 0.0970 - accuracy: 0.9816 - val_loss: 0.1130 - val_accuracy: 0.9628\n",
            "Epoch 71/100\n",
            "381/381 [==============================] - 0s 66us/sample - loss: 0.0965 - accuracy: 0.9816 - val_loss: 0.1121 - val_accuracy: 0.9734\n",
            "Epoch 72/100\n",
            "381/381 [==============================] - 0s 65us/sample - loss: 0.0958 - accuracy: 0.9816 - val_loss: 0.1111 - val_accuracy: 0.9681\n",
            "Epoch 73/100\n",
            "381/381 [==============================] - 0s 66us/sample - loss: 0.0952 - accuracy: 0.9816 - val_loss: 0.1101 - val_accuracy: 0.9681\n",
            "Epoch 74/100\n",
            "381/381 [==============================] - 0s 76us/sample - loss: 0.0946 - accuracy: 0.9816 - val_loss: 0.1092 - val_accuracy: 0.9681\n",
            "Epoch 75/100\n",
            "381/381 [==============================] - 0s 82us/sample - loss: 0.0940 - accuracy: 0.9816 - val_loss: 0.1082 - val_accuracy: 0.9681\n",
            "Epoch 76/100\n",
            "381/381 [==============================] - 0s 69us/sample - loss: 0.0935 - accuracy: 0.9816 - val_loss: 0.1073 - val_accuracy: 0.9681\n",
            "Epoch 77/100\n",
            "381/381 [==============================] - 0s 70us/sample - loss: 0.0929 - accuracy: 0.9816 - val_loss: 0.1066 - val_accuracy: 0.9681\n",
            "Epoch 78/100\n",
            "381/381 [==============================] - 0s 66us/sample - loss: 0.0924 - accuracy: 0.9816 - val_loss: 0.1056 - val_accuracy: 0.9681\n",
            "Epoch 79/100\n",
            "381/381 [==============================] - 0s 69us/sample - loss: 0.0919 - accuracy: 0.9816 - val_loss: 0.1048 - val_accuracy: 0.9734\n",
            "Epoch 80/100\n",
            "381/381 [==============================] - 0s 78us/sample - loss: 0.0914 - accuracy: 0.9816 - val_loss: 0.1040 - val_accuracy: 0.9734\n",
            "Epoch 81/100\n",
            "381/381 [==============================] - 0s 76us/sample - loss: 0.0909 - accuracy: 0.9816 - val_loss: 0.1033 - val_accuracy: 0.9787\n",
            "Epoch 82/100\n",
            "381/381 [==============================] - 0s 69us/sample - loss: 0.0903 - accuracy: 0.9816 - val_loss: 0.1026 - val_accuracy: 0.9787\n",
            "Epoch 83/100\n",
            "381/381 [==============================] - 0s 64us/sample - loss: 0.0899 - accuracy: 0.9816 - val_loss: 0.1018 - val_accuracy: 0.9787\n",
            "Epoch 84/100\n",
            "381/381 [==============================] - 0s 66us/sample - loss: 0.0894 - accuracy: 0.9816 - val_loss: 0.1010 - val_accuracy: 0.9787\n",
            "Epoch 85/100\n",
            "381/381 [==============================] - 0s 67us/sample - loss: 0.0889 - accuracy: 0.9816 - val_loss: 0.1004 - val_accuracy: 0.9787\n",
            "Epoch 86/100\n",
            "381/381 [==============================] - 0s 67us/sample - loss: 0.0885 - accuracy: 0.9816 - val_loss: 0.0997 - val_accuracy: 0.9787\n",
            "Epoch 87/100\n",
            "381/381 [==============================] - 0s 70us/sample - loss: 0.0881 - accuracy: 0.9816 - val_loss: 0.0992 - val_accuracy: 0.9787\n",
            "Epoch 88/100\n",
            "381/381 [==============================] - 0s 70us/sample - loss: 0.0877 - accuracy: 0.9816 - val_loss: 0.0985 - val_accuracy: 0.9787\n",
            "Epoch 89/100\n",
            "381/381 [==============================] - 0s 63us/sample - loss: 0.0873 - accuracy: 0.9816 - val_loss: 0.0979 - val_accuracy: 0.9787\n",
            "Epoch 90/100\n",
            "381/381 [==============================] - 0s 74us/sample - loss: 0.0868 - accuracy: 0.9816 - val_loss: 0.0973 - val_accuracy: 0.9787\n",
            "Epoch 91/100\n",
            "381/381 [==============================] - 0s 69us/sample - loss: 0.0864 - accuracy: 0.9816 - val_loss: 0.0968 - val_accuracy: 0.9787\n",
            "Epoch 92/100\n",
            "381/381 [==============================] - 0s 72us/sample - loss: 0.0860 - accuracy: 0.9816 - val_loss: 0.0962 - val_accuracy: 0.9787\n",
            "Epoch 93/100\n",
            "381/381 [==============================] - 0s 73us/sample - loss: 0.0856 - accuracy: 0.9816 - val_loss: 0.0957 - val_accuracy: 0.9787\n",
            "Epoch 94/100\n",
            "381/381 [==============================] - 0s 61us/sample - loss: 0.0853 - accuracy: 0.9843 - val_loss: 0.0951 - val_accuracy: 0.9787\n",
            "Epoch 95/100\n",
            "381/381 [==============================] - 0s 68us/sample - loss: 0.0849 - accuracy: 0.9843 - val_loss: 0.0946 - val_accuracy: 0.9787\n",
            "Epoch 96/100\n",
            "381/381 [==============================] - 0s 66us/sample - loss: 0.0846 - accuracy: 0.9843 - val_loss: 0.0941 - val_accuracy: 0.9787\n",
            "Epoch 97/100\n",
            "381/381 [==============================] - 0s 66us/sample - loss: 0.0842 - accuracy: 0.9843 - val_loss: 0.0936 - val_accuracy: 0.9787\n",
            "Epoch 98/100\n",
            "381/381 [==============================] - 0s 71us/sample - loss: 0.0838 - accuracy: 0.9843 - val_loss: 0.0931 - val_accuracy: 0.9787\n",
            "Epoch 99/100\n",
            "381/381 [==============================] - 0s 86us/sample - loss: 0.0835 - accuracy: 0.9843 - val_loss: 0.0926 - val_accuracy: 0.9787\n",
            "Epoch 100/100\n",
            "381/381 [==============================] - 0s 67us/sample - loss: 0.0832 - accuracy: 0.9843 - val_loss: 0.0922 - val_accuracy: 0.9787\n"
          ],
          "name": "stdout"
        }
      ]
    },
    {
      "cell_type": "code",
      "metadata": {
        "id": "63htGr6rvrm_",
        "colab_type": "code",
        "outputId": "300813b2-a78d-43c4-a7a6-9efd2ee2a6c7",
        "colab": {
          "base_uri": "https://localhost:8080/",
          "height": 87
        }
      },
      "source": [
        "print(\"Train score: \", model.evaluate(scaled_x_train, y_train))\n",
        "print(\"Test score: \", model.evaluate(scaled_x_test, y_test))"
      ],
      "execution_count": 0,
      "outputs": [
        {
          "output_type": "stream",
          "text": [
            "381/381 [==============================] - 0s 86us/sample - loss: 0.0829 - accuracy: 0.9843\n",
            "Train score:  [0.08293776444875663, 0.984252]\n",
            "188/188 [==============================] - 0s 52us/sample - loss: 0.0922 - accuracy: 0.9787\n",
            "Test score:  [0.09218344869131738, 0.9787234]\n"
          ],
          "name": "stdout"
        }
      ]
    },
    {
      "cell_type": "code",
      "metadata": {
        "id": "W3T8Mp7DwZ4y",
        "colab_type": "code",
        "outputId": "335d8724-fb24-4a38-bd8e-bfe6c58a02c3",
        "colab": {
          "base_uri": "https://localhost:8080/",
          "height": 283
        }
      },
      "source": [
        "import matplotlib.pyplot as plt\n",
        "\n",
        "plt.plot(r.history[\"loss\"], label = \"loss\")\n",
        "plt.plot(r.history[\"val_loss\"], label = \"val_loss\")\n",
        "plt.legend()"
      ],
      "execution_count": 0,
      "outputs": [
        {
          "output_type": "execute_result",
          "data": {
            "text/plain": [
              "<matplotlib.legend.Legend at 0x7fee394e5320>"
            ]
          },
          "metadata": {
            "tags": []
          },
          "execution_count": 23
        },
        {
          "output_type": "display_data",
          "data": {
            "image/png": "[encoded data removed]",
            "text/plain": [
              "<Figure size 432x288 with 1 Axes>"
            ]
          },
          "metadata": {
            "tags": []
          }
        }
      ]
    },
    {
      "cell_type": "code",
      "metadata": {
        "id": "rNtDvfhwxDv5",
        "colab_type": "code",
        "outputId": "15832f1b-625c-4f51-8eaf-90cbd0380a1c",
        "colab": {
          "base_uri": "https://localhost:8080/",
          "height": 283
        }
      },
      "source": [
        "plt.plot(r.history[\"accuracy\"], label = \"accuracy\")\n",
        "plt.plot(r.history[\"val_accuracy\"], label = \"val_accuracy\")\n",
        "plt.legend()"
      ],
      "execution_count": 0,
      "outputs": [
        {
          "output_type": "execute_result",
          "data": {
            "text/plain": [
              "<matplotlib.legend.Legend at 0x7fee39d04080>"
            ]
          },
          "metadata": {
            "tags": []
          },
          "execution_count": 24
        },
        {
          "output_type": "display_data",
          "data": {
            "image/png": "[encoded data removed]",
            "text/plain": [
              "<Figure size 432x288 with 1 Axes>"
            ]
          },
          "metadata": {
            "tags": []
          }
        }
      ]
    },
    {
      "cell_type": "markdown",
      "metadata": {
        "id": "2Vbl12d2yBKe",
        "colab_type": "text"
      },
      "source": [
        "# Just a comparision with random forest classifier"
      ]
    },
    {
      "cell_type": "code",
      "metadata": {
        "id": "tV_otF0DxKqv",
        "colab_type": "code",
        "outputId": "85426ef1-da5e-4114-d90d-a853162c9a66",
        "colab": {
          "base_uri": "https://localhost:8080/",
          "height": 193
        }
      },
      "source": [
        "from sklearn.ensemble import RandomForestClassifier\n",
        "rf = RandomForestClassifier()\n",
        "rf.fit(X_train, y_train)"
      ],
      "execution_count": 0,
      "outputs": [
        {
          "output_type": "stream",
          "text": [
            "/usr/local/lib/python3.6/dist-packages/sklearn/ensemble/forest.py:245: FutureWarning: The default value of n_estimators will change from 10 in version 0.20 to 100 in 0.22.\n",
            "  \"10 in version 0.20 to 100 in 0.22.\", FutureWarning)\n"
          ],
          "name": "stderr"
        },
        {
          "output_type": "execute_result",
          "data": {
            "text/plain": [
              "RandomForestClassifier(bootstrap=True, class_weight=None, criterion='gini',\n",
              "                       max_depth=None, max_features='auto', max_leaf_nodes=None,\n",
              "                       min_impurity_decrease=0.0, min_impurity_split=None,\n",
              "                       min_samples_leaf=1, min_samples_split=2,\n",
              "                       min_weight_fraction_leaf=0.0, n_estimators=10,\n",
              "                       n_jobs=None, oob_score=False, random_state=None,\n",
              "                       verbose=0, warm_start=False)"
            ]
          },
          "metadata": {
            "tags": []
          },
          "execution_count": 26
        }
      ]
    },
    {
      "cell_type": "code",
      "metadata": {
        "id": "duaHoZj6xT-M",
        "colab_type": "code",
        "outputId": "5a8f70c7-8a57-4137-80d6-4b09c23fec13",
        "colab": {
          "base_uri": "https://localhost:8080/",
          "height": 35
        }
      },
      "source": [
        "from sklearn.metrics import accuracy_score, classification_report\n",
        "pred = rf.predict(X_test)\n",
        "\n",
        "accuracy_score(y_test, pred)"
      ],
      "execution_count": 0,
      "outputs": [
        {
          "output_type": "execute_result",
          "data": {
            "text/plain": [
              "0.9308510638297872"
            ]
          },
          "metadata": {
            "tags": []
          },
          "execution_count": 28
        }
      ]
    },
    {
      "cell_type": "code",
      "metadata": {
        "id": "jJSOi62axmyP",
        "colab_type": "code",
        "outputId": "499cbee4-0d12-4d5d-b6f5-910f87f0651a",
        "colab": {
          "base_uri": "https://localhost:8080/",
          "height": 173
        }
      },
      "source": [
        "print(classification_report(y_test, pred))"
      ],
      "execution_count": 0,
      "outputs": [
        {
          "output_type": "stream",
          "text": [
            "              precision    recall  f1-score   support\n",
            "\n",
            "           0       0.87      0.94      0.91        66\n",
            "           1       0.97      0.93      0.95       122\n",
            "\n",
            "    accuracy                           0.93       188\n",
            "   macro avg       0.92      0.93      0.93       188\n",
            "weighted avg       0.93      0.93      0.93       188\n",
            "\n"
          ],
          "name": "stdout"
        }
      ]
    }
  ]
}
