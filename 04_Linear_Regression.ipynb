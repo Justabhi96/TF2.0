{
  "nbformat": 4,
  "nbformat_minor": 0,
  "metadata": {
    "colab": {
      "name": "Udemy TF2.0 - Linear Regression.ipynb",
      "provenance": [],
      "include_colab_link": true
    },
    "kernelspec": {
      "name": "python3",
      "display_name": "Python 3"
    }
  },
  "cells": [
    {
      "cell_type": "markdown",
      "metadata": {
        "id": "view-in-github",
        "colab_type": "text"
      },
      "source": [
        "<a href=\"https://colab.research.google.com/github/Justabhi96/TF2.0/blob/master/4_Linear_Regression.ipynb\" target=\"_parent\"><img src=\"https://colab.research.google.com/assets/colab-badge.svg\" alt=\"Open In Colab\"/></a>"
      ]
    },
    {
      "cell_type": "code",
      "metadata": {
        "id": "5NjueAz3nH5m",
        "colab_type": "code",
        "outputId": "4a034491-1f72-4023-85f1-f6df3dc000af",
        "colab": {
          "base_uri": "https://localhost:8080/",
          "height": 505
        }
      },
      "source": [
        "!pip install -q tensorflow==2.0.0-beta1\n",
        "import tensorflow as tf"
      ],
      "execution_count": 0,
      "outputs": [
        {
          "output_type": "stream",
          "text": [
            "\u001b[K     |████████████████████████████████| 87.9MB 46kB/s \n",
            "\u001b[K     |████████████████████████████████| 3.1MB 56.2MB/s \n",
            "\u001b[K     |████████████████████████████████| 501kB 61.7MB/s \n",
            "\u001b[?25h"
          ],
          "name": "stdout"
        },
        {
          "output_type": "stream",
          "text": [
            "/usr/local/lib/python3.6/dist-packages/tensorflow/python/framework/dtypes.py:516: FutureWarning: Passing (type, 1) or '1type' as a synonym of type is deprecated; in a future version of numpy, it will be understood as (type, (1,)) / '(1,)type'.\n",
            "  _np_qint8 = np.dtype([(\"qint8\", np.int8, 1)])\n",
            "/usr/local/lib/python3.6/dist-packages/tensorflow/python/framework/dtypes.py:517: FutureWarning: Passing (type, 1) or '1type' as a synonym of type is deprecated; in a future version of numpy, it will be understood as (type, (1,)) / '(1,)type'.\n",
            "  _np_quint8 = np.dtype([(\"quint8\", np.uint8, 1)])\n",
            "/usr/local/lib/python3.6/dist-packages/tensorflow/python/framework/dtypes.py:518: FutureWarning: Passing (type, 1) or '1type' as a synonym of type is deprecated; in a future version of numpy, it will be understood as (type, (1,)) / '(1,)type'.\n",
            "  _np_qint16 = np.dtype([(\"qint16\", np.int16, 1)])\n",
            "/usr/local/lib/python3.6/dist-packages/tensorflow/python/framework/dtypes.py:519: FutureWarning: Passing (type, 1) or '1type' as a synonym of type is deprecated; in a future version of numpy, it will be understood as (type, (1,)) / '(1,)type'.\n",
            "  _np_quint16 = np.dtype([(\"quint16\", np.uint16, 1)])\n",
            "/usr/local/lib/python3.6/dist-packages/tensorflow/python/framework/dtypes.py:520: FutureWarning: Passing (type, 1) or '1type' as a synonym of type is deprecated; in a future version of numpy, it will be understood as (type, (1,)) / '(1,)type'.\n",
            "  _np_qint32 = np.dtype([(\"qint32\", np.int32, 1)])\n",
            "/usr/local/lib/python3.6/dist-packages/tensorflow/python/framework/dtypes.py:525: FutureWarning: Passing (type, 1) or '1type' as a synonym of type is deprecated; in a future version of numpy, it will be understood as (type, (1,)) / '(1,)type'.\n",
            "  np_resource = np.dtype([(\"resource\", np.ubyte, 1)])\n",
            "/usr/local/lib/python3.6/dist-packages/tensorboard/compat/tensorflow_stub/dtypes.py:541: FutureWarning: Passing (type, 1) or '1type' as a synonym of type is deprecated; in a future version of numpy, it will be understood as (type, (1,)) / '(1,)type'.\n",
            "  _np_qint8 = np.dtype([(\"qint8\", np.int8, 1)])\n",
            "/usr/local/lib/python3.6/dist-packages/tensorboard/compat/tensorflow_stub/dtypes.py:542: FutureWarning: Passing (type, 1) or '1type' as a synonym of type is deprecated; in a future version of numpy, it will be understood as (type, (1,)) / '(1,)type'.\n",
            "  _np_quint8 = np.dtype([(\"quint8\", np.uint8, 1)])\n",
            "/usr/local/lib/python3.6/dist-packages/tensorboard/compat/tensorflow_stub/dtypes.py:543: FutureWarning: Passing (type, 1) or '1type' as a synonym of type is deprecated; in a future version of numpy, it will be understood as (type, (1,)) / '(1,)type'.\n",
            "  _np_qint16 = np.dtype([(\"qint16\", np.int16, 1)])\n",
            "/usr/local/lib/python3.6/dist-packages/tensorboard/compat/tensorflow_stub/dtypes.py:544: FutureWarning: Passing (type, 1) or '1type' as a synonym of type is deprecated; in a future version of numpy, it will be understood as (type, (1,)) / '(1,)type'.\n",
            "  _np_quint16 = np.dtype([(\"quint16\", np.uint16, 1)])\n",
            "/usr/local/lib/python3.6/dist-packages/tensorboard/compat/tensorflow_stub/dtypes.py:545: FutureWarning: Passing (type, 1) or '1type' as a synonym of type is deprecated; in a future version of numpy, it will be understood as (type, (1,)) / '(1,)type'.\n",
            "  _np_qint32 = np.dtype([(\"qint32\", np.int32, 1)])\n",
            "/usr/local/lib/python3.6/dist-packages/tensorboard/compat/tensorflow_stub/dtypes.py:550: FutureWarning: Passing (type, 1) or '1type' as a synonym of type is deprecated; in a future version of numpy, it will be understood as (type, (1,)) / '(1,)type'.\n",
            "  np_resource = np.dtype([(\"resource\", np.ubyte, 1)])\n"
          ],
          "name": "stderr"
        }
      ]
    },
    {
      "cell_type": "code",
      "metadata": {
        "id": "cgjGa8yKnX9x",
        "colab_type": "code",
        "colab": {}
      },
      "source": [
        "import pandas as pd\n",
        "import numpy as np\n",
        "import matplotlib.pyplot as plt"
      ],
      "execution_count": 0,
      "outputs": []
    },
    {
      "cell_type": "code",
      "metadata": {
        "id": "GkSOvwro4URE",
        "colab_type": "code",
        "outputId": "311dea1d-b14c-4b7a-c41e-f87434a91426",
        "colab": {
          "base_uri": "https://localhost:8080/",
          "height": 208
        }
      },
      "source": [
        "!wget https://raw.githubusercontent.com/lazyprogrammer/machine_learning_examples/master/tf2.0/moore.csv"
      ],
      "execution_count": 0,
      "outputs": [
        {
          "output_type": "stream",
          "text": [
            "--2019-12-14 19:28:43--  https://raw.githubusercontent.com/lazyprogrammer/machine_learning_examples/master/tf2.0/moore.csv\n",
            "Resolving raw.githubusercontent.com (raw.githubusercontent.com)... 151.101.0.133, 151.101.64.133, 151.101.128.133, ...\n",
            "Connecting to raw.githubusercontent.com (raw.githubusercontent.com)|151.101.0.133|:443... connected.\n",
            "HTTP request sent, awaiting response... 200 OK\n",
            "Length: 2302 (2.2K) [text/plain]\n",
            "Saving to: ‘moore.csv’\n",
            "\n",
            "\rmoore.csv             0%[                    ]       0  --.-KB/s               \rmoore.csv           100%[===================>]   2.25K  --.-KB/s    in 0s      \n",
            "\n",
            "2019-12-14 19:28:43 (27.8 MB/s) - ‘moore.csv’ saved [2302/2302]\n",
            "\n"
          ],
          "name": "stdout"
        }
      ]
    },
    {
      "cell_type": "code",
      "metadata": {
        "id": "1iZTSiM14mjU",
        "colab_type": "code",
        "colab": {}
      },
      "source": [
        "data = pd.read_csv(\"moore.csv\", header = None).values\n",
        "X = data[:, 0].reshape(-1, 1)\n",
        "y = data[:, 1]"
      ],
      "execution_count": 0,
      "outputs": []
    },
    {
      "cell_type": "code",
      "metadata": {
        "id": "2wCRQv6u5Rd0",
        "colab_type": "code",
        "outputId": "8605efc1-72dc-4d4a-fa3c-28cf42fbd3a0",
        "colab": {
          "base_uri": "https://localhost:8080/",
          "height": 293
        }
      },
      "source": [
        "plt.scatter(X, y))"
      ],
      "execution_count": 0,
      "outputs": [
        {
          "output_type": "execute_result",
          "data": {
            "text/plain": [
              "<matplotlib.collections.PathCollection at 0x7f68743baac8>"
            ]
          },
          "metadata": {
            "tags": []
          },
          "execution_count": 10
        },
        {
          "output_type": "display_data",
          "data": {
            "image/png": "[encoded data removed]",
            "text/plain": [
              "<Figure size 432x288 with 1 Axes>"
            ]
          },
          "metadata": {
            "tags": []
          }
        }
      ]
    },
    {
      "cell_type": "code",
      "metadata": {
        "id": "veFWEUK15nZr",
        "colab_type": "code",
        "outputId": "6c26ebda-f8ae-4a9a-b1bd-70e387d46e7e",
        "colab": {
          "base_uri": "https://localhost:8080/",
          "height": 283
        }
      },
      "source": [
        "# since we want a linear model, so we take log\n",
        "y = np.log(y)\n",
        "plt.scatter(X, y)"
      ],
      "execution_count": 0,
      "outputs": [
        {
          "output_type": "execute_result",
          "data": {
            "text/plain": [
              "<matplotlib.collections.PathCollection at 0x7f6871e8c2b0>"
            ]
          },
          "metadata": {
            "tags": []
          },
          "execution_count": 11
        },
        {
          "output_type": "display_data",
          "data": {
            "image/png": "[encoded data removed]",
            "text/plain": [
              "<Figure size 432x288 with 1 Axes>"
            ]
          },
          "metadata": {
            "tags": []
          }
        }
      ]
    },
    {
      "cell_type": "code",
      "metadata": {
        "id": "J9NGXBEG6G6e",
        "colab_type": "code",
        "colab": {}
      },
      "source": [
        "# let's center the x data since it is not centered around x.\n",
        "# We could scale it also but then we have to trainsform it back later since after\n",
        "# scaling increase of one in x data will no loger represent 1 year\n",
        "X = X - X.mean()"
      ],
      "execution_count": 0,
      "outputs": []
    },
    {
      "cell_type": "code",
      "metadata": {
        "id": "Y7hC01bGtnmc",
        "colab_type": "code",
        "outputId": "3a646422-b51a-498d-c50b-ac484b361fb5",
        "colab": {
          "base_uri": "https://localhost:8080/",
          "height": 1000
        }
      },
      "source": [
        "# model = tf.keras.models.Sequential([\n",
        "#     tf.keras.layers.Input(shape = (1,)),\n",
        "#     tf.keras.layers.Dense(1)                                    \n",
        "# ])\n",
        "\n",
        "model = tf.keras.models.Sequential()\n",
        "model.add(tf.keras.layers.Dense(1, input_shape = (1,)))\n",
        "\n",
        "model.compile(optimizer = tf.keras.optimizers.SGD(learning_rate = 0.001, momentum = 0.9),\n",
        "              loss = \"mse\")\n",
        "\n",
        "# learning rate scheduler\n",
        "def schedule(epoch, learning_rate):\n",
        "  if epoch > 50:\n",
        "    return 0.0001\n",
        "  return 0.001\n",
        "\n",
        "scheduler = tf.keras.callbacks.LearningRateScheduler(schedule)\n",
        "\n",
        "r = model.fit(X, y, callbacks = [scheduler], epochs = 200)"
      ],
      "execution_count": 0,
      "outputs": [
        {
          "output_type": "stream",
          "text": [
            "Train on 162 samples\n",
            "Epoch 1/200\n",
            "162/162 [==============================] - 0s 242us/sample - loss: 347.6268\n",
            "Epoch 2/200\n",
            "162/162 [==============================] - 0s 57us/sample - loss: 315.3716\n",
            "Epoch 3/200\n",
            "162/162 [==============================] - 0s 46us/sample - loss: 309.2696\n",
            "Epoch 4/200\n",
            "162/162 [==============================] - 0s 47us/sample - loss: 230.4465\n",
            "Epoch 5/200\n",
            "162/162 [==============================] - 0s 47us/sample - loss: 169.5950\n",
            "Epoch 6/200\n",
            "162/162 [==============================] - 0s 46us/sample - loss: 125.9426\n",
            "Epoch 7/200\n",
            "162/162 [==============================] - 0s 46us/sample - loss: 92.9985\n",
            "Epoch 8/200\n",
            "162/162 [==============================] - 0s 47us/sample - loss: 94.4358\n",
            "Epoch 9/200\n",
            "162/162 [==============================] - 0s 48us/sample - loss: 58.9181\n",
            "Epoch 10/200\n",
            "162/162 [==============================] - 0s 46us/sample - loss: 39.9456\n",
            "Epoch 11/200\n",
            "162/162 [==============================] - 0s 47us/sample - loss: 41.6665\n",
            "Epoch 12/200\n",
            "162/162 [==============================] - 0s 50us/sample - loss: 29.4090\n",
            "Epoch 13/200\n",
            "162/162 [==============================] - 0s 47us/sample - loss: 32.4344\n",
            "Epoch 14/200\n",
            "162/162 [==============================] - 0s 46us/sample - loss: 17.0487\n",
            "Epoch 15/200\n",
            "162/162 [==============================] - 0s 46us/sample - loss: 17.4183\n",
            "Epoch 16/200\n",
            "162/162 [==============================] - 0s 46us/sample - loss: 16.7648\n",
            "Epoch 17/200\n",
            "162/162 [==============================] - 0s 47us/sample - loss: 14.1362\n",
            "Epoch 18/200\n",
            "162/162 [==============================] - 0s 45us/sample - loss: 7.6039\n",
            "Epoch 19/200\n",
            "162/162 [==============================] - 0s 48us/sample - loss: 4.7144\n",
            "Epoch 20/200\n",
            "162/162 [==============================] - 0s 53us/sample - loss: 14.8833\n",
            "Epoch 21/200\n",
            "162/162 [==============================] - 0s 60us/sample - loss: 13.6453\n",
            "Epoch 22/200\n",
            "162/162 [==============================] - 0s 47us/sample - loss: 10.5841\n",
            "Epoch 23/200\n",
            "162/162 [==============================] - 0s 48us/sample - loss: 5.9456\n",
            "Epoch 24/200\n",
            "162/162 [==============================] - 0s 58us/sample - loss: 3.3281\n",
            "Epoch 25/200\n",
            "162/162 [==============================] - 0s 52us/sample - loss: 1.6621\n",
            "Epoch 26/200\n",
            "162/162 [==============================] - 0s 66us/sample - loss: 1.4848\n",
            "Epoch 27/200\n",
            "162/162 [==============================] - 0s 66us/sample - loss: 1.2090\n",
            "Epoch 28/200\n",
            "162/162 [==============================] - 0s 54us/sample - loss: 1.2411\n",
            "Epoch 29/200\n",
            "162/162 [==============================] - 0s 45us/sample - loss: 1.1568\n",
            "Epoch 30/200\n",
            "162/162 [==============================] - 0s 47us/sample - loss: 1.3454\n",
            "Epoch 31/200\n",
            "162/162 [==============================] - 0s 46us/sample - loss: 1.2563\n",
            "Epoch 32/200\n",
            "162/162 [==============================] - 0s 59us/sample - loss: 1.1659\n",
            "Epoch 33/200\n",
            "162/162 [==============================] - 0s 60us/sample - loss: 0.9603\n",
            "Epoch 34/200\n",
            "162/162 [==============================] - 0s 50us/sample - loss: 0.9231\n",
            "Epoch 35/200\n",
            "162/162 [==============================] - 0s 59us/sample - loss: 0.8934\n",
            "Epoch 36/200\n",
            "162/162 [==============================] - 0s 64us/sample - loss: 0.9789\n",
            "Epoch 37/200\n",
            "162/162 [==============================] - 0s 60us/sample - loss: 0.9311\n",
            "Epoch 38/200\n",
            "162/162 [==============================] - 0s 54us/sample - loss: 1.1146\n",
            "Epoch 39/200\n",
            "162/162 [==============================] - 0s 52us/sample - loss: 1.0158\n",
            "Epoch 40/200\n",
            "162/162 [==============================] - 0s 48us/sample - loss: 0.8995\n",
            "Epoch 41/200\n",
            "162/162 [==============================] - 0s 57us/sample - loss: 0.8765\n",
            "Epoch 42/200\n",
            "162/162 [==============================] - 0s 59us/sample - loss: 0.8947\n",
            "Epoch 43/200\n",
            "162/162 [==============================] - 0s 58us/sample - loss: 0.9737\n",
            "Epoch 44/200\n",
            "162/162 [==============================] - 0s 56us/sample - loss: 1.0599\n",
            "Epoch 45/200\n",
            "162/162 [==============================] - 0s 56us/sample - loss: 0.9991\n",
            "Epoch 46/200\n",
            "162/162 [==============================] - 0s 56us/sample - loss: 1.3689\n",
            "Epoch 47/200\n",
            "162/162 [==============================] - 0s 62us/sample - loss: 1.1672\n",
            "Epoch 48/200\n",
            "162/162 [==============================] - 0s 74us/sample - loss: 1.0273\n",
            "Epoch 49/200\n",
            "162/162 [==============================] - 0s 50us/sample - loss: 1.1127\n",
            "Epoch 50/200\n",
            "162/162 [==============================] - 0s 64us/sample - loss: 1.1378\n",
            "Epoch 51/200\n",
            "162/162 [==============================] - 0s 49us/sample - loss: 0.9939\n",
            "Epoch 52/200\n",
            "162/162 [==============================] - 0s 51us/sample - loss: 0.8813\n",
            "Epoch 53/200\n",
            "162/162 [==============================] - 0s 49us/sample - loss: 0.8961\n",
            "Epoch 54/200\n",
            "162/162 [==============================] - 0s 54us/sample - loss: 0.8820\n",
            "Epoch 55/200\n",
            "162/162 [==============================] - 0s 49us/sample - loss: 0.8759\n",
            "Epoch 56/200\n",
            "162/162 [==============================] - 0s 56us/sample - loss: 0.8768\n",
            "Epoch 57/200\n",
            "162/162 [==============================] - 0s 55us/sample - loss: 0.8686\n",
            "Epoch 58/200\n",
            "162/162 [==============================] - 0s 58us/sample - loss: 0.8835\n",
            "Epoch 59/200\n",
            "162/162 [==============================] - 0s 54us/sample - loss: 0.8775\n",
            "Epoch 60/200\n",
            "162/162 [==============================] - 0s 48us/sample - loss: 0.8707\n",
            "Epoch 61/200\n",
            "162/162 [==============================] - 0s 50us/sample - loss: 0.8725\n",
            "Epoch 62/200\n",
            "162/162 [==============================] - 0s 55us/sample - loss: 0.8730\n",
            "Epoch 63/200\n",
            "162/162 [==============================] - 0s 60us/sample - loss: 0.8720\n",
            "Epoch 64/200\n",
            "162/162 [==============================] - 0s 87us/sample - loss: 0.8706\n",
            "Epoch 65/200\n",
            "162/162 [==============================] - 0s 51us/sample - loss: 0.8772\n",
            "Epoch 66/200\n",
            "162/162 [==============================] - 0s 54us/sample - loss: 0.8770\n",
            "Epoch 67/200\n",
            "162/162 [==============================] - 0s 55us/sample - loss: 0.8722\n",
            "Epoch 68/200\n",
            "162/162 [==============================] - 0s 53us/sample - loss: 0.8737\n",
            "Epoch 69/200\n",
            "162/162 [==============================] - 0s 55us/sample - loss: 0.8713\n",
            "Epoch 70/200\n",
            "162/162 [==============================] - 0s 52us/sample - loss: 0.8765\n",
            "Epoch 71/200\n",
            "162/162 [==============================] - 0s 52us/sample - loss: 0.8715\n",
            "Epoch 72/200\n",
            "162/162 [==============================] - 0s 58us/sample - loss: 0.8701\n",
            "Epoch 73/200\n",
            "162/162 [==============================] - 0s 49us/sample - loss: 0.8713\n",
            "Epoch 74/200\n",
            "162/162 [==============================] - 0s 47us/sample - loss: 0.8788\n",
            "Epoch 75/200\n",
            "162/162 [==============================] - 0s 54us/sample - loss: 0.8834\n",
            "Epoch 76/200\n",
            "162/162 [==============================] - 0s 54us/sample - loss: 0.8709\n",
            "Epoch 77/200\n",
            "162/162 [==============================] - 0s 56us/sample - loss: 0.9440\n",
            "Epoch 78/200\n",
            "162/162 [==============================] - 0s 49us/sample - loss: 1.0025\n",
            "Epoch 79/200\n",
            "162/162 [==============================] - 0s 55us/sample - loss: 0.8954\n",
            "Epoch 80/200\n",
            "162/162 [==============================] - 0s 60us/sample - loss: 0.8885\n",
            "Epoch 81/200\n",
            "162/162 [==============================] - 0s 55us/sample - loss: 0.8841\n",
            "Epoch 82/200\n",
            "162/162 [==============================] - 0s 60us/sample - loss: 0.8762\n",
            "Epoch 83/200\n",
            "162/162 [==============================] - 0s 48us/sample - loss: 0.8770\n",
            "Epoch 84/200\n",
            "162/162 [==============================] - 0s 50us/sample - loss: 0.8726\n",
            "Epoch 85/200\n",
            "162/162 [==============================] - 0s 49us/sample - loss: 0.8761\n",
            "Epoch 86/200\n",
            "162/162 [==============================] - 0s 51us/sample - loss: 0.8719\n",
            "Epoch 87/200\n",
            "162/162 [==============================] - 0s 55us/sample - loss: 0.8805\n",
            "Epoch 88/200\n",
            "162/162 [==============================] - 0s 49us/sample - loss: 0.8711\n",
            "Epoch 89/200\n",
            "162/162 [==============================] - 0s 49us/sample - loss: 0.9058\n",
            "Epoch 90/200\n",
            "162/162 [==============================] - 0s 52us/sample - loss: 0.8771\n",
            "Epoch 91/200\n",
            "162/162 [==============================] - 0s 63us/sample - loss: 0.9293\n",
            "Epoch 92/200\n",
            "162/162 [==============================] - 0s 51us/sample - loss: 0.9157\n",
            "Epoch 93/200\n",
            "162/162 [==============================] - 0s 64us/sample - loss: 0.8674\n",
            "Epoch 94/200\n",
            "162/162 [==============================] - 0s 60us/sample - loss: 0.9068\n",
            "Epoch 95/200\n",
            "162/162 [==============================] - 0s 60us/sample - loss: 0.8829\n",
            "Epoch 96/200\n",
            "162/162 [==============================] - 0s 58us/sample - loss: 0.8714\n",
            "Epoch 97/200\n",
            "162/162 [==============================] - 0s 48us/sample - loss: 0.8759\n",
            "Epoch 98/200\n",
            "162/162 [==============================] - 0s 56us/sample - loss: 0.8721\n",
            "Epoch 99/200\n",
            "162/162 [==============================] - 0s 60us/sample - loss: 0.8732\n",
            "Epoch 100/200\n",
            "162/162 [==============================] - 0s 55us/sample - loss: 0.8731\n",
            "Epoch 101/200\n",
            "162/162 [==============================] - 0s 57us/sample - loss: 0.8744\n",
            "Epoch 102/200\n",
            "162/162 [==============================] - 0s 71us/sample - loss: 0.8733\n",
            "Epoch 103/200\n",
            "162/162 [==============================] - 0s 56us/sample - loss: 0.8727\n",
            "Epoch 104/200\n",
            "162/162 [==============================] - 0s 66us/sample - loss: 0.8733\n",
            "Epoch 105/200\n",
            "162/162 [==============================] - 0s 64us/sample - loss: 0.8707\n",
            "Epoch 106/200\n",
            "162/162 [==============================] - 0s 45us/sample - loss: 0.8719\n",
            "Epoch 107/200\n",
            "162/162 [==============================] - 0s 44us/sample - loss: 0.8756\n",
            "Epoch 108/200\n",
            "162/162 [==============================] - 0s 59us/sample - loss: 0.8762\n",
            "Epoch 109/200\n",
            "162/162 [==============================] - 0s 61us/sample - loss: 0.8765\n",
            "Epoch 110/200\n",
            "162/162 [==============================] - 0s 44us/sample - loss: 0.8738\n",
            "Epoch 111/200\n",
            "162/162 [==============================] - 0s 56us/sample - loss: 0.8751\n",
            "Epoch 112/200\n",
            "162/162 [==============================] - 0s 47us/sample - loss: 0.8854\n",
            "Epoch 113/200\n",
            "162/162 [==============================] - 0s 58us/sample - loss: 0.8775\n",
            "Epoch 114/200\n",
            "162/162 [==============================] - 0s 51us/sample - loss: 0.8716\n",
            "Epoch 115/200\n",
            "162/162 [==============================] - 0s 54us/sample - loss: 0.8697\n",
            "Epoch 116/200\n",
            "162/162 [==============================] - 0s 60us/sample - loss: 0.8754\n",
            "Epoch 117/200\n",
            "162/162 [==============================] - 0s 51us/sample - loss: 0.8739\n",
            "Epoch 118/200\n",
            "162/162 [==============================] - 0s 54us/sample - loss: 0.8704\n",
            "Epoch 119/200\n",
            "162/162 [==============================] - 0s 49us/sample - loss: 0.8720\n",
            "Epoch 120/200\n",
            "162/162 [==============================] - 0s 51us/sample - loss: 0.8723\n",
            "Epoch 121/200\n",
            "162/162 [==============================] - 0s 59us/sample - loss: 0.8730\n",
            "Epoch 122/200\n",
            "162/162 [==============================] - 0s 62us/sample - loss: 0.8697\n",
            "Epoch 123/200\n",
            "162/162 [==============================] - 0s 64us/sample - loss: 0.8703\n",
            "Epoch 124/200\n",
            "162/162 [==============================] - 0s 62us/sample - loss: 0.8803\n",
            "Epoch 125/200\n",
            "162/162 [==============================] - 0s 68us/sample - loss: 0.8895\n",
            "Epoch 126/200\n",
            "162/162 [==============================] - 0s 69us/sample - loss: 0.8769\n",
            "Epoch 127/200\n",
            "162/162 [==============================] - 0s 116us/sample - loss: 0.8765\n",
            "Epoch 128/200\n",
            "162/162 [==============================] - 0s 61us/sample - loss: 0.8827\n",
            "Epoch 129/200\n",
            "162/162 [==============================] - 0s 73us/sample - loss: 0.8930\n",
            "Epoch 130/200\n",
            "162/162 [==============================] - 0s 71us/sample - loss: 0.8860\n",
            "Epoch 131/200\n",
            "162/162 [==============================] - 0s 68us/sample - loss: 0.8884\n",
            "Epoch 132/200\n",
            "162/162 [==============================] - 0s 61us/sample - loss: 0.9143\n",
            "Epoch 133/200\n",
            "162/162 [==============================] - 0s 63us/sample - loss: 0.8754\n",
            "Epoch 134/200\n",
            "162/162 [==============================] - 0s 61us/sample - loss: 0.8893\n",
            "Epoch 135/200\n",
            "162/162 [==============================] - 0s 57us/sample - loss: 0.8982\n",
            "Epoch 136/200\n",
            "162/162 [==============================] - 0s 58us/sample - loss: 0.8811\n",
            "Epoch 137/200\n",
            "162/162 [==============================] - 0s 46us/sample - loss: 0.8745\n",
            "Epoch 138/200\n",
            "162/162 [==============================] - 0s 43us/sample - loss: 0.8753\n",
            "Epoch 139/200\n",
            "162/162 [==============================] - 0s 49us/sample - loss: 0.8786\n",
            "Epoch 140/200\n",
            "162/162 [==============================] - 0s 55us/sample - loss: 0.8676\n",
            "Epoch 141/200\n",
            "162/162 [==============================] - 0s 58us/sample - loss: 0.8763\n",
            "Epoch 142/200\n",
            "162/162 [==============================] - 0s 58us/sample - loss: 0.8734\n",
            "Epoch 143/200\n",
            "162/162 [==============================] - 0s 57us/sample - loss: 0.8717\n",
            "Epoch 144/200\n",
            "162/162 [==============================] - 0s 51us/sample - loss: 0.8710\n",
            "Epoch 145/200\n",
            "162/162 [==============================] - 0s 56us/sample - loss: 0.8758\n",
            "Epoch 146/200\n",
            "162/162 [==============================] - 0s 54us/sample - loss: 0.8727\n",
            "Epoch 147/200\n",
            "162/162 [==============================] - 0s 56us/sample - loss: 0.8792\n",
            "Epoch 148/200\n",
            "162/162 [==============================] - 0s 50us/sample - loss: 0.8707\n",
            "Epoch 149/200\n",
            "162/162 [==============================] - 0s 52us/sample - loss: 0.8727\n",
            "Epoch 150/200\n",
            "162/162 [==============================] - 0s 56us/sample - loss: 0.8727\n",
            "Epoch 151/200\n",
            "162/162 [==============================] - 0s 56us/sample - loss: 0.8697\n",
            "Epoch 152/200\n",
            "162/162 [==============================] - 0s 58us/sample - loss: 0.8710\n",
            "Epoch 153/200\n",
            "162/162 [==============================] - 0s 66us/sample - loss: 0.8715\n",
            "Epoch 154/200\n",
            "162/162 [==============================] - 0s 55us/sample - loss: 0.8710\n",
            "Epoch 155/200\n",
            "162/162 [==============================] - 0s 54us/sample - loss: 0.8719\n",
            "Epoch 156/200\n",
            "162/162 [==============================] - 0s 58us/sample - loss: 0.8757\n",
            "Epoch 157/200\n",
            "162/162 [==============================] - 0s 55us/sample - loss: 0.8786\n",
            "Epoch 158/200\n",
            "162/162 [==============================] - 0s 57us/sample - loss: 0.8712\n",
            "Epoch 159/200\n",
            "162/162 [==============================] - 0s 63us/sample - loss: 0.8732\n",
            "Epoch 160/200\n",
            "162/162 [==============================] - 0s 50us/sample - loss: 0.8782\n",
            "Epoch 161/200\n",
            "162/162 [==============================] - 0s 50us/sample - loss: 0.8718\n",
            "Epoch 162/200\n",
            "162/162 [==============================] - 0s 55us/sample - loss: 0.9036\n",
            "Epoch 163/200\n",
            "162/162 [==============================] - 0s 52us/sample - loss: 0.9291\n",
            "Epoch 164/200\n",
            "162/162 [==============================] - 0s 52us/sample - loss: 0.8802\n",
            "Epoch 165/200\n",
            "162/162 [==============================] - 0s 57us/sample - loss: 0.8695\n",
            "Epoch 166/200\n",
            "162/162 [==============================] - 0s 51us/sample - loss: 0.8801\n",
            "Epoch 167/200\n",
            "162/162 [==============================] - 0s 55us/sample - loss: 0.8736\n",
            "Epoch 168/200\n",
            "162/162 [==============================] - 0s 58us/sample - loss: 0.8794\n",
            "Epoch 169/200\n",
            "162/162 [==============================] - 0s 56us/sample - loss: 0.8745\n",
            "Epoch 170/200\n",
            "162/162 [==============================] - 0s 55us/sample - loss: 0.8808\n",
            "Epoch 171/200\n",
            "162/162 [==============================] - 0s 60us/sample - loss: 0.8755\n",
            "Epoch 172/200\n",
            "162/162 [==============================] - 0s 55us/sample - loss: 0.8908\n",
            "Epoch 173/200\n",
            "162/162 [==============================] - 0s 48us/sample - loss: 0.9358\n",
            "Epoch 174/200\n",
            "162/162 [==============================] - 0s 58us/sample - loss: 0.8942\n",
            "Epoch 175/200\n",
            "162/162 [==============================] - 0s 59us/sample - loss: 0.8715\n",
            "Epoch 176/200\n",
            "162/162 [==============================] - 0s 58us/sample - loss: 0.8769\n",
            "Epoch 177/200\n",
            "162/162 [==============================] - 0s 59us/sample - loss: 0.8762\n",
            "Epoch 178/200\n",
            "162/162 [==============================] - 0s 58us/sample - loss: 0.8838\n",
            "Epoch 179/200\n",
            "162/162 [==============================] - 0s 56us/sample - loss: 0.8719\n",
            "Epoch 180/200\n",
            "162/162 [==============================] - 0s 54us/sample - loss: 0.8712\n",
            "Epoch 181/200\n",
            "162/162 [==============================] - 0s 49us/sample - loss: 0.8822\n",
            "Epoch 182/200\n",
            "162/162 [==============================] - 0s 54us/sample - loss: 0.8980\n",
            "Epoch 183/200\n",
            "162/162 [==============================] - 0s 65us/sample - loss: 0.8799\n",
            "Epoch 184/200\n",
            "162/162 [==============================] - 0s 72us/sample - loss: 0.8703\n",
            "Epoch 185/200\n",
            "162/162 [==============================] - 0s 49us/sample - loss: 0.8854\n",
            "Epoch 186/200\n",
            "162/162 [==============================] - 0s 49us/sample - loss: 0.8704\n",
            "Epoch 187/200\n",
            "162/162 [==============================] - 0s 55us/sample - loss: 0.9044\n",
            "Epoch 188/200\n",
            "162/162 [==============================] - 0s 53us/sample - loss: 0.8871\n",
            "Epoch 189/200\n",
            "162/162 [==============================] - 0s 53us/sample - loss: 0.8736\n",
            "Epoch 190/200\n",
            "162/162 [==============================] - 0s 57us/sample - loss: 0.8715\n",
            "Epoch 191/200\n",
            "162/162 [==============================] - 0s 60us/sample - loss: 0.8705\n",
            "Epoch 192/200\n",
            "162/162 [==============================] - 0s 55us/sample - loss: 0.8812\n",
            "Epoch 193/200\n",
            "162/162 [==============================] - 0s 56us/sample - loss: 0.8789\n",
            "Epoch 194/200\n",
            "162/162 [==============================] - 0s 56us/sample - loss: 0.8720\n",
            "Epoch 195/200\n",
            "162/162 [==============================] - 0s 56us/sample - loss: 0.8721\n",
            "Epoch 196/200\n",
            "162/162 [==============================] - 0s 56us/sample - loss: 0.8697\n",
            "Epoch 197/200\n",
            "162/162 [==============================] - 0s 56us/sample - loss: 0.8957\n",
            "Epoch 198/200\n",
            "162/162 [==============================] - 0s 53us/sample - loss: 0.9243\n",
            "Epoch 199/200\n",
            "162/162 [==============================] - 0s 54us/sample - loss: 0.8820\n",
            "Epoch 200/200\n",
            "162/162 [==============================] - 0s 50us/sample - loss: 0.8740\n"
          ],
          "name": "stdout"
        }
      ]
    },
    {
      "cell_type": "code",
      "metadata": {
        "id": "W3T8Mp7DwZ4y",
        "colab_type": "code",
        "outputId": "5eabc53b-e414-467f-aeb6-7292d5f122a6",
        "colab": {
          "base_uri": "https://localhost:8080/",
          "height": 285
        }
      },
      "source": [
        "plt.plot(r.history[\"loss\"], label = \"loss\")"
      ],
      "execution_count": 0,
      "outputs": [
        {
          "output_type": "execute_result",
          "data": {
            "text/plain": [
              "[<matplotlib.lines.Line2D at 0x7f686c615080>]"
            ]
          },
          "metadata": {
            "tags": []
          },
          "execution_count": 14
        },
        {
          "output_type": "display_data",
          "data": {
            "image/png": "[encoded data removed]",
            "text/plain": [
              "<Figure size 432x288 with 1 Axes>"
            ]
          },
          "metadata": {
            "tags": []
          }
        }
      ]
    },
    {
      "cell_type": "code",
      "metadata": {
        "id": "nJfLvmjS81L2",
        "colab_type": "code",
        "outputId": "263120b5-dfb5-47b1-ea7b-2f0614b32f70",
        "colab": {
          "base_uri": "https://localhost:8080/",
          "height": 35
        }
      },
      "source": [
        "print(model.layers[0].get_weights())"
      ],
      "execution_count": 0,
      "outputs": [
        {
          "output_type": "stream",
          "text": [
            "[array([[0.33642134]], dtype=float32), array([17.760763], dtype=float32)]\n"
          ],
          "name": "stdout"
        }
      ]
    },
    {
      "cell_type": "markdown",
      "metadata": {
        "id": "nY3-Ves8FI8w",
        "colab_type": "text"
      },
      "source": [
        "# Making prediction"
      ]
    },
    {
      "cell_type": "code",
      "metadata": {
        "id": "KCtnmGf4EUVd",
        "colab_type": "code",
        "outputId": "96ee882f-62c2-4454-f646-95004dedea84",
        "colab": {
          "base_uri": "https://localhost:8080/",
          "height": 283
        }
      },
      "source": [
        "pred = model.predict(X).flatten()\n",
        "plt.scatter(X, y)\n",
        "plt.plot(X, pred)"
      ],
      "execution_count": 0,
      "outputs": [
        {
          "output_type": "execute_result",
          "data": {
            "text/plain": [
              "[<matplotlib.lines.Line2D at 0x7f6868d8fb00>]"
            ]
          },
          "metadata": {
            "tags": []
          },
          "execution_count": 18
        },
        {
          "output_type": "display_data",
          "data": {
            "image/png": "[encoded data removed]",
            "text/plain": [
              "<Figure size 432x288 with 1 Axes>"
            ]
          },
          "metadata": {
            "tags": []
          }
        }
      ]
    },
    {
      "cell_type": "markdown",
      "metadata": {
        "id": "Yi-TKiArFLpe",
        "colab_type": "text"
      },
      "source": [
        "# Saving Model and Loading Model"
      ]
    },
    {
      "cell_type": "code",
      "metadata": {
        "id": "zcHmM9wDFN6q",
        "colab_type": "code",
        "colab": {}
      },
      "source": [
        "model.save(\"linear_model.h5\")"
      ],
      "execution_count": 0,
      "outputs": []
    },
    {
      "cell_type": "code",
      "metadata": {
        "id": "qQgua3eLFUaX",
        "colab_type": "code",
        "outputId": "f66f7094-83c1-4de2-fb0e-3b6f5c437ead",
        "colab": {
          "base_uri": "https://localhost:8080/",
          "height": 35
        }
      },
      "source": [
        "!ls"
      ],
      "execution_count": 0,
      "outputs": [
        {
          "output_type": "stream",
          "text": [
            "linear_model.h5  moore.csv  sample_data\n"
          ],
          "name": "stdout"
        }
      ]
    },
    {
      "cell_type": "code",
      "metadata": {
        "id": "p0d7ktU9FXLR",
        "colab_type": "code",
        "outputId": "1fab6ae2-1e4e-46d8-8f06-52f94862493f",
        "colab": {
          "base_uri": "https://localhost:8080/",
          "height": 35
        }
      },
      "source": [
        "loaded_model = tf.keras.models.load_model(\"linear_model.h5\")\n",
        "loaded_model.layers[0].get_weights()"
      ],
      "execution_count": 0,
      "outputs": [
        {
          "output_type": "execute_result",
          "data": {
            "text/plain": [
              "[array([[0.34423864]], dtype=float32), array([17.752062], dtype=float32)]"
            ]
          },
          "metadata": {
            "tags": []
          },
          "execution_count": 27
        }
      ]
    }
  ]
}
