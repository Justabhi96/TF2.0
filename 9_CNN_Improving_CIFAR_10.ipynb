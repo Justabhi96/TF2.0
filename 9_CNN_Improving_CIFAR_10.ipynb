{
  "nbformat": 4,
  "nbformat_minor": 0,
  "metadata": {
    "colab": {
      "name": "Udemy TF2.0 - CNN Improving CIFAR-10.ipynb",
      "provenance": [],
      "collapsed_sections": [],
      "include_colab_link": true
    },
    "kernelspec": {
      "name": "python3",
      "display_name": "Python 3"
    },
    "accelerator": "GPU"
  },
  "cells": [
    {
      "cell_type": "markdown",
      "metadata": {
        "id": "view-in-github",
        "colab_type": "text"
      },
      "source": [
        "<a href=\"https://colab.research.google.com/github/Justabhi96/TF2.0/blob/master/9_CNN_Improving_CIFAR_10.ipynb\" target=\"_parent\"><img src=\"https://colab.research.google.com/assets/colab-badge.svg\" alt=\"Open In Colab\"/></a>"
      ]
    },
    {
      "cell_type": "code",
      "metadata": {
        "id": "vAsmrMQxcIik",
        "colab_type": "code",
        "outputId": "c53789a2-3c53-4c1d-9dc4-78276a92592f",
        "colab": {
          "base_uri": "https://localhost:8080/",
          "height": 70
        }
      },
      "source": [
        "!pip install -q tensorflow==2.0.0-beta1"
      ],
      "execution_count": 0,
      "outputs": [
        {
          "output_type": "stream",
          "text": [
            "\u001b[K     |████████████████████████████████| 87.9MB 51kB/s \n",
            "\u001b[K     |████████████████████████████████| 3.1MB 41.1MB/s \n",
            "\u001b[K     |████████████████████████████████| 501kB 40.4MB/s \n",
            "\u001b[?25h"
          ],
          "name": "stdout"
        }
      ]
    },
    {
      "cell_type": "code",
      "metadata": {
        "id": "Ejq1IFuo3402",
        "colab_type": "code",
        "colab": {}
      },
      "source": [
        "%%capture\n",
        "import numpy as np\n",
        "import matplotlib.pyplot as plt\n",
        "from tensorflow.keras.layers import Input, Conv2D, Dense, Flatten, Dropout, GlobalMaxPooling2D, MaxPooling2D, BatchNormalization\n",
        "from tensorflow.keras.models import Model\n",
        "from tensorflow.keras.datasets import cifar10"
      ],
      "execution_count": 0,
      "outputs": []
    },
    {
      "cell_type": "code",
      "metadata": {
        "id": "4ouEAFbVc9v4",
        "colab_type": "code",
        "outputId": "846ca060-a027-417c-918b-e0038648745a",
        "colab": {
          "base_uri": "https://localhost:8080/",
          "height": 70
        }
      },
      "source": [
        "(X_train, y_train), (X_test, y_test) = cifar10.load_data()\n",
        "X_train, X_test = X_train/255.0, X_test/255.0\n",
        "y_train, y_test = y_train.flatten(), y_test.flatten()\n",
        "X_train.shape, y_train.shape"
      ],
      "execution_count": 0,
      "outputs": [
        {
          "output_type": "stream",
          "text": [
            "Downloading data from https://www.cs.toronto.edu/~kriz/cifar-10-python.tar.gz\n",
            "170500096/170498071 [==============================] - 11s 0us/step\n"
          ],
          "name": "stdout"
        },
        {
          "output_type": "execute_result",
          "data": {
            "text/plain": [
              "((50000, 32, 32, 3), (50000,))"
            ]
          },
          "metadata": {
            "tags": []
          },
          "execution_count": 3
        }
      ]
    },
    {
      "cell_type": "code",
      "metadata": {
        "id": "eYvDij2l6Tp2",
        "colab_type": "code",
        "outputId": "d4a4aabc-9bd4-4539-e4a2-ea2bc966f36f",
        "colab": {
          "base_uri": "https://localhost:8080/",
          "height": 52
        }
      },
      "source": [
        "print(set(y_train))\n",
        "K = len(set(y_train))\n",
        "print(\"Number of Classes: \", K)"
      ],
      "execution_count": 0,
      "outputs": [
        {
          "output_type": "stream",
          "text": [
            "{0, 1, 2, 3, 4, 5, 6, 7, 8, 9}\n",
            "Number of Classes:  10\n"
          ],
          "name": "stdout"
        }
      ]
    },
    {
      "cell_type": "markdown",
      "metadata": {
        "id": "fAF0h6sOEvWk",
        "colab_type": "text"
      },
      "source": [
        "## Adding Batch Normalization"
      ]
    },
    {
      "cell_type": "code",
      "metadata": {
        "id": "HYOfb7XDEtxO",
        "colab_type": "code",
        "colab": {}
      },
      "source": [
        "i = Input(shape = X_train[0].shape)\n",
        "x = Conv2D(filters = 32, kernel_size= (3,3), strides = 2, activation = \"relu\")(i)\n",
        "x = BatchNormalization()(x)\n",
        "x = Conv2D(filters = 64, kernel_size= (3,3), strides = 2, activation = \"relu\")(x)\n",
        "x = BatchNormalization()(x)\n",
        "x = Conv2D(filters = 128, kernel_size= (3,3), strides = 2, activation = \"relu\")(x)\n",
        "x = BatchNormalization()(x)\n",
        "\n",
        "x = Flatten()(x)\n",
        "x = Dropout(0.2)(x)\n",
        "x = Dense(1024, activation = \"relu\")(x)\n",
        "x = Dropout(0.2)(x)\n",
        "x = Dense(K, activation = \"softmax\")(x)"
      ],
      "execution_count": 0,
      "outputs": []
    },
    {
      "cell_type": "code",
      "metadata": {
        "id": "L1OJYqMDFRjX",
        "colab_type": "code",
        "outputId": "8fe420ed-5fd5-4ec0-a00b-9c0c0381cf34",
        "colab": {
          "base_uri": "https://localhost:8080/",
          "height": 408
        }
      },
      "source": [
        "norm_model = Model(i, x)\n",
        "norm_model.compile(optimizer=\"adam\", loss = \"sparse_categorical_crossentropy\", metrics = [\"accuracy\"])\n",
        "\n",
        "norm_r = norm_model.fit(X_train, y_train, validation_data=(X_test, y_test), epochs = 10)"
      ],
      "execution_count": 0,
      "outputs": [
        {
          "output_type": "stream",
          "text": [
            "Train on 50000 samples, validate on 10000 samples\n",
            "Epoch 1/10\n",
            "50000/50000 [==============================] - 70s 1ms/sample - loss: 1.5304 - accuracy: 0.4818 - val_loss: 1.2666 - val_accuracy: 0.5485\n",
            "Epoch 2/10\n",
            "50000/50000 [==============================] - 69s 1ms/sample - loss: 1.0778 - accuracy: 0.6207 - val_loss: 1.0124 - val_accuracy: 0.6410\n",
            "Epoch 3/10\n",
            "50000/50000 [==============================] - 69s 1ms/sample - loss: 0.8949 - accuracy: 0.6854 - val_loss: 1.0466 - val_accuracy: 0.6261\n",
            "Epoch 4/10\n",
            "50000/50000 [==============================] - 70s 1ms/sample - loss: 0.7520 - accuracy: 0.7364 - val_loss: 0.9145 - val_accuracy: 0.6839\n",
            "Epoch 5/10\n",
            "50000/50000 [==============================] - 71s 1ms/sample - loss: 0.6335 - accuracy: 0.7763 - val_loss: 0.9144 - val_accuracy: 0.6976\n",
            "Epoch 6/10\n",
            "50000/50000 [==============================] - 69s 1ms/sample - loss: 0.5382 - accuracy: 0.8100 - val_loss: 1.0050 - val_accuracy: 0.6727\n",
            "Epoch 7/10\n",
            "50000/50000 [==============================] - 70s 1ms/sample - loss: 0.4542 - accuracy: 0.8415 - val_loss: 0.9160 - val_accuracy: 0.7007\n",
            "Epoch 8/10\n",
            "50000/50000 [==============================] - 71s 1ms/sample - loss: 0.3873 - accuracy: 0.8630 - val_loss: 0.9240 - val_accuracy: 0.7159\n",
            "Epoch 9/10\n",
            "50000/50000 [==============================] - 70s 1ms/sample - loss: 0.3380 - accuracy: 0.8803 - val_loss: 0.9915 - val_accuracy: 0.6984\n",
            "Epoch 10/10\n",
            "50000/50000 [==============================] - 69s 1ms/sample - loss: 0.3002 - accuracy: 0.8941 - val_loss: 0.9774 - val_accuracy: 0.7140\n"
          ],
          "name": "stdout"
        }
      ]
    },
    {
      "cell_type": "code",
      "metadata": {
        "id": "MqRYQmRxPOrG",
        "colab_type": "code",
        "outputId": "f10108be-a172-4bd5-edcf-3d0f557db789",
        "colab": {
          "base_uri": "https://localhost:8080/",
          "height": 282
        }
      },
      "source": [
        "# loss per iteration\n",
        "plt.plot(norm_r.history[\"loss\"], label = \"loss\")\n",
        "plt.plot(norm_r.history[\"val_loss\"], label = \"val_loss\")\n",
        "plt.legend()"
      ],
      "execution_count": 0,
      "outputs": [
        {
          "output_type": "execute_result",
          "data": {
            "text/plain": [
              "<matplotlib.legend.Legend at 0x7f3009329748>"
            ]
          },
          "metadata": {
            "tags": []
          },
          "execution_count": 7
        },
        {
          "output_type": "display_data",
          "data": {
            "image/png": "[encoded data removed]",
            "text/plain": [
              "<Figure size 432x288 with 1 Axes>"
            ]
          },
          "metadata": {
            "tags": []
          }
        }
      ]
    },
    {
      "cell_type": "code",
      "metadata": {
        "id": "d50NIvQpPKMX",
        "colab_type": "code",
        "outputId": "ea9f5fa3-a171-4a23-bc6a-befb453c9c15",
        "colab": {
          "base_uri": "https://localhost:8080/",
          "height": 282
        }
      },
      "source": [
        "# accuracy per iteration\n",
        "plt.plot(norm_r.history[\"accuracy\"], label = \"accuracy\")\n",
        "plt.plot(norm_r.history[\"val_accuracy\"], label = \"val_accuracy\")\n",
        "plt.legend()"
      ],
      "execution_count": 0,
      "outputs": [
        {
          "output_type": "execute_result",
          "data": {
            "text/plain": [
              "<matplotlib.legend.Legend at 0x7f3008df8630>"
            ]
          },
          "metadata": {
            "tags": []
          },
          "execution_count": 8
        },
        {
          "output_type": "display_data",
          "data": {
            "image/png": "[encoded data removed]",
            "text/plain": [
              "<Figure size 432x288 with 1 Axes>"
            ]
          },
          "metadata": {
            "tags": []
          }
        }
      ]
    },
    {
      "cell_type": "markdown",
      "metadata": {
        "id": "r_9B5LCLIijZ",
        "colab_type": "text"
      },
      "source": [
        "## Two convolution layers with normalization before max pooling"
      ]
    },
    {
      "cell_type": "code",
      "metadata": {
        "id": "cwRZ6m0dt6h9",
        "colab_type": "code",
        "colab": {}
      },
      "source": [
        "i = Input(shape = X_train[0].shape)\n",
        "x = Conv2D(filters = 32, kernel_size= (3,3), activation = \"relu\", padding=\"same\")(i)\n",
        "x = BatchNormalization()(x)\n",
        "x = Conv2D(filters = 32, kernel_size= (3,3), activation = \"relu\", padding=\"same\")(x)\n",
        "x = BatchNormalization()(x)\n",
        "x = MaxPooling2D(pool_size = (2,2))(x)\n",
        "\n",
        "x = Conv2D(filters = 64, kernel_size= (3,3), activation = \"relu\", padding=\"same\")(x)\n",
        "x = BatchNormalization()(x)\n",
        "x = Conv2D(filters = 64, kernel_size= (3,3), activation = \"relu\", padding=\"same\")(x)\n",
        "x = BatchNormalization()(x)\n",
        "x = MaxPooling2D(pool_size = (2,2))(x)\n",
        "\n",
        "x = Conv2D(filters = 128, kernel_size= (3,3), activation = \"relu\", padding=\"same\")(x)\n",
        "x = BatchNormalization()(x)\n",
        "x = Conv2D(filters = 128, kernel_size= (3,3), activation = \"relu\", padding=\"same\")(x)\n",
        "x = BatchNormalization()(x)\n",
        "x = MaxPooling2D(pool_size = (2,2))(x)\n",
        "# x = GlobalMaxPooling2D()(x)\n",
        "\n",
        "x = Flatten()(x)\n",
        "x = Dropout(0.2)(x)\n",
        "x = Dense(1024, activation = \"relu\")(x)\n",
        "x = Dropout(0.2)(x)\n",
        "x = Dense(K, activation = \"softmax\")(x)"
      ],
      "execution_count": 0,
      "outputs": []
    },
    {
      "cell_type": "code",
      "metadata": {
        "id": "q_HPToACgVFS",
        "colab_type": "code",
        "outputId": "3202a954-8414-4d80-ace4-179d04e15821",
        "colab": {
          "base_uri": "https://localhost:8080/",
          "height": 231
        }
      },
      "source": [
        "model = Model(i, x)\n",
        "model.compile(optimizer=\"adam\", loss = \"sparse_categorical_crossentropy\", metrics = [\"accuracy\"])\n",
        "\n",
        "r = model.fit(X_train, y_train, validation_data=(X_test, y_test), epochs = 5)"
      ],
      "execution_count": 0,
      "outputs": [
        {
          "output_type": "stream",
          "text": [
            "Train on 50000 samples, validate on 10000 samples\n",
            "Epoch 1/5\n",
            "50000/50000 [==============================] - 581s 12ms/sample - loss: 1.4743 - accuracy: 0.5261 - val_loss: 0.9547 - val_accuracy: 0.6677\n",
            "Epoch 2/5\n",
            "50000/50000 [==============================] - 581s 12ms/sample - loss: 0.8596 - accuracy: 0.6995 - val_loss: 1.0674 - val_accuracy: 0.6474\n",
            "Epoch 3/5\n",
            "50000/50000 [==============================] - 578s 12ms/sample - loss: 0.7016 - accuracy: 0.7599 - val_loss: 0.8029 - val_accuracy: 0.7359\n",
            "Epoch 4/5\n",
            "50000/50000 [==============================] - 578s 12ms/sample - loss: 0.5905 - accuracy: 0.7961 - val_loss: 0.6648 - val_accuracy: 0.7757\n",
            "Epoch 5/5\n",
            "50000/50000 [==============================] - 583s 12ms/sample - loss: 0.5033 - accuracy: 0.8268 - val_loss: 0.6349 - val_accuracy: 0.7932\n"
          ],
          "name": "stdout"
        }
      ]
    },
    {
      "cell_type": "code",
      "metadata": {
        "id": "HNYgbvaWPB65",
        "colab_type": "code",
        "outputId": "dbe0bbd1-11c8-4435-b9b4-44860e130624",
        "colab": {
          "base_uri": "https://localhost:8080/",
          "height": 282
        }
      },
      "source": [
        "# loss per iteration\n",
        "plt.plot(r.history[\"loss\"], label = \"loss\")\n",
        "plt.plot(r.history[\"val_loss\"], label = \"val_loss\")\n",
        "plt.legend()"
      ],
      "execution_count": 0,
      "outputs": [
        {
          "output_type": "execute_result",
          "data": {
            "text/plain": [
              "<matplotlib.legend.Legend at 0x7f3006fb00f0>"
            ]
          },
          "metadata": {
            "tags": []
          },
          "execution_count": 11
        },
        {
          "output_type": "display_data",
          "data": {
            "image/png": "[encoded data removed]",
            "text/plain": [
              "<Figure size 432x288 with 1 Axes>"
            ]
          },
          "metadata": {
            "tags": []
          }
        }
      ]
    },
    {
      "cell_type": "code",
      "metadata": {
        "id": "FlerseDcPD-E",
        "colab_type": "code",
        "outputId": "fd4c4e22-8ef9-4fd4-d086-ecab2ed33e3d",
        "colab": {
          "base_uri": "https://localhost:8080/",
          "height": 282
        }
      },
      "source": [
        "# accuracy per iteration\n",
        "plt.plot(r.history[\"accuracy\"], label = \"accuracy\")\n",
        "plt.plot(r.history[\"val_accuracy\"], label = \"val_accuracy\")\n",
        "plt.legend()"
      ],
      "execution_count": 0,
      "outputs": [
        {
          "output_type": "execute_result",
          "data": {
            "text/plain": [
              "<matplotlib.legend.Legend at 0x7f3006f26da0>"
            ]
          },
          "metadata": {
            "tags": []
          },
          "execution_count": 12
        },
        {
          "output_type": "display_data",
          "data": {
            "image/png": "[encoded data removed]",
            "text/plain": [
              "<Figure size 432x288 with 1 Axes>"
            ]
          },
          "metadata": {
            "tags": []
          }
        }
      ]
    },
    {
      "cell_type": "markdown",
      "metadata": {
        "id": "QO2VizHYMmP7",
        "colab_type": "text"
      },
      "source": [
        "# Data Augmentation"
      ]
    },
    {
      "cell_type": "code",
      "metadata": {
        "id": "8KN8WJN3Mt4S",
        "colab_type": "code",
        "colab": {}
      },
      "source": [
        "from tensorflow.keras.preprocessing.image import ImageDataGenerator"
      ],
      "execution_count": 0,
      "outputs": []
    },
    {
      "cell_type": "code",
      "metadata": {
        "id": "d5YtB_TiMe0h",
        "colab_type": "code",
        "outputId": "25923812-8fa6-4560-ec32-e4cfa46a0d6e",
        "colab": {
          "base_uri": "https://localhost:8080/",
          "height": 214
        }
      },
      "source": [
        "# We create a new model object because if you run this code after running the previous code\n",
        "# it will start from where it left off\n",
        "augmented_model = Model(i, x)\n",
        "augmented_model.compile(optimizer=\"adam\", loss = \"sparse_categorical_crossentropy\", metrics = [\"accuracy\"])\n",
        "\n",
        "batch_size = 32\n",
        "data_generator = ImageDataGenerator(width_shift_range = 0.1, height_shift_range = 0.1, horizontal_flip = True)\n",
        "train_generator = data_generator.flow(X_train, y_train, batch_size)\n",
        "steps_per_epoch = X_train.shape[0]//batch_size\n",
        "\n",
        "aug_r = augmented_model.fit_generator(train_generator, validation_data=(X_test, y_test), \n",
        "                                      steps_per_epoch = steps_per_epoch, epochs = 5)"
      ],
      "execution_count": 0,
      "outputs": [
        {
          "output_type": "stream",
          "text": [
            "Epoch 1/5\n",
            "1562/1562 [==============================] - 587s 376ms/step - loss: 0.7750 - accuracy: 0.7362 - val_loss: 0.7204 - val_accuracy: 0.7634\n",
            "Epoch 2/5\n",
            "1562/1562 [==============================] - 589s 377ms/step - loss: 0.6964 - accuracy: 0.7621 - val_loss: 0.6703 - val_accuracy: 0.7799\n",
            "Epoch 3/5\n",
            "1562/1562 [==============================] - 590s 378ms/step - loss: 0.6363 - accuracy: 0.7819 - val_loss: 0.6969 - val_accuracy: 0.7655\n",
            "Epoch 4/5\n",
            "1562/1562 [==============================] - 604s 387ms/step - loss: 0.5940 - accuracy: 0.7986 - val_loss: 0.7247 - val_accuracy: 0.7640\n",
            "Epoch 5/5\n",
            "1562/1562 [==============================] - 606s 388ms/step - loss: 0.5609 - accuracy: 0.8069 - val_loss: 0.5223 - val_accuracy: 0.8235\n"
          ],
          "name": "stdout"
        }
      ]
    },
    {
      "cell_type": "code",
      "metadata": {
        "id": "Bup1yT2UmfpM",
        "colab_type": "code",
        "outputId": "c3f28f42-a7c7-47c1-d65f-784c79322508",
        "colab": {
          "base_uri": "https://localhost:8080/"
        }
      },
      "source": [
        "augmented_model.summary()"
      ],
      "execution_count": 0,
      "outputs": [
        {
          "output_type": "stream",
          "text": [
            "Model: \"model_2\"\n",
            "_________________________________________________________________\n",
            "Layer (type)                 Output Shape              Param #   \n",
            "=================================================================\n",
            "input_1 (InputLayer)         [(None, 32, 32, 3)]       0         \n",
            "_________________________________________________________________\n",
            "conv2d (Conv2D)              (None, 32, 32, 32)        896       \n",
            "_________________________________________________________________\n",
            "batch_normalization (BatchNo (None, 32, 32, 32)        128       \n",
            "_________________________________________________________________\n",
            "conv2d_1 (Conv2D)            (None, 32, 32, 32)        9248      \n",
            "_________________________________________________________________\n",
            "batch_normalization_1 (Batch (None, 32, 32, 32)        128       \n",
            "_________________________________________________________________\n",
            "max_pooling2d (MaxPooling2D) (None, 16, 16, 32)        0         \n",
            "_________________________________________________________________\n",
            "conv2d_2 (Conv2D)            (None, 16, 16, 64)        18496     \n",
            "_________________________________________________________________\n",
            "batch_normalization_2 (Batch (None, 16, 16, 64)        256       \n",
            "_________________________________________________________________\n",
            "conv2d_3 (Conv2D)            (None, 16, 16, 64)        36928     \n",
            "_________________________________________________________________\n",
            "batch_normalization_3 (Batch (None, 16, 16, 64)        256       \n",
            "_________________________________________________________________\n",
            "max_pooling2d_1 (MaxPooling2 (None, 8, 8, 64)          0         \n",
            "_________________________________________________________________\n",
            "conv2d_4 (Conv2D)            (None, 8, 8, 128)         73856     \n",
            "_________________________________________________________________\n",
            "batch_normalization_4 (Batch (None, 8, 8, 128)         512       \n",
            "_________________________________________________________________\n",
            "conv2d_5 (Conv2D)            (None, 8, 8, 128)         147584    \n",
            "_________________________________________________________________\n",
            "batch_normalization_5 (Batch (None, 8, 8, 128)         512       \n",
            "_________________________________________________________________\n",
            "max_pooling2d_2 (MaxPooling2 (None, 4, 4, 128)         0         \n",
            "_________________________________________________________________\n",
            "flatten (Flatten)            (None, 2048)              0         \n",
            "_________________________________________________________________\n",
            "dropout (Dropout)            (None, 2048)              0         \n",
            "_________________________________________________________________\n",
            "dense (Dense)                (None, 1024)              2098176   \n",
            "_________________________________________________________________\n",
            "dropout_1 (Dropout)          (None, 1024)              0         \n",
            "_________________________________________________________________\n",
            "dense_1 (Dense)              (None, 10)                10250     \n",
            "=================================================================\n",
            "Total params: 2,397,226\n",
            "Trainable params: 2,396,330\n",
            "Non-trainable params: 896\n",
            "_________________________________________________________________\n"
          ],
          "name": "stdout"
        }
      ]
    }
  ]
}